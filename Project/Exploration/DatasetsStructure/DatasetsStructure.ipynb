{
 "cells": [
  {
   "cell_type": "markdown",
   "id": "68243e0c",
   "metadata": {},
   "source": [
    "# Analisi strutturale dei datasets"
   ]
  },
  {
   "cell_type": "code",
   "execution_count": 1,
   "id": "41cfd354",
   "metadata": {},
   "outputs": [],
   "source": [
    "import os\n",
    "import pandas as pd\n",
    "import json\n",
    "import matplotlib.pyplot as plt\n",
    "from PIL import Image\n",
    "import numpy as np\n",
    "import matplotlib.colors\n",
    "import re\n",
    "from itertools import combinations\n",
    "import shutil\n",
    "import seaborn as sns\n",
    "from wordcloud import WordCloud, STOPWORDS, ImageColorGenerator\n",
    "from itertools import combinations\n",
    "import string\n",
    "import collections"
   ]
  },
  {
   "cell_type": "code",
   "execution_count": 2,
   "id": "0a8c8e85",
   "metadata": {},
   "outputs": [],
   "source": [
    "lilla = \"#c8a2c8\"\n",
    "color_of_bar1 = \"#c8a2c8\"\n",
    "color_of_bar2 = \"#6495ED\"\n",
    "color_of_edge = \"#000000\""
   ]
  },
  {
   "cell_type": "code",
   "execution_count": 3,
   "id": "0a69aa66",
   "metadata": {},
   "outputs": [],
   "source": [
    "matrix = np.array([[149030, 34],[7442, 12]])\n",
    "norm = matplotlib.colors.Normalize(matrix.min(), matrix.max())\n",
    "boundaries = [value for value in matrix.flatten().tolist()]\n",
    "list.sort(boundaries)\n",
    "colors = [[norm(boundaries[0]), \"#dcc4dc\"], \n",
    "          [norm(boundaries[1]), \"#c8a2c8\"], \n",
    "          [norm(boundaries[2]), \"#93779c\"], \n",
    "          [norm(boundaries[3]), \"#6c4675\"]]\n",
    "my_cmap = matplotlib.colors.LinearSegmentedColormap.from_list(\"\", colors)"
   ]
  },
  {
   "cell_type": "code",
   "execution_count": 4,
   "id": "558c9fb0",
   "metadata": {},
   "outputs": [],
   "source": [
    "dataset_path = \"..\\\\..\\\\Dataset\\\\DatasetJSON\\\\datasets.json\""
   ]
  },
  {
   "cell_type": "markdown",
   "id": "3115e195",
   "metadata": {},
   "source": [
    "### Import datasets ed dati"
   ]
  },
  {
   "cell_type": "code",
   "execution_count": 5,
   "id": "5af48769",
   "metadata": {},
   "outputs": [],
   "source": [
    "with open(dataset_path, 'r', encoding='utf-8') as f:\n",
    "    json_object = json.loads(f.read())\n",
    "    f.close()"
   ]
  },
  {
   "cell_type": "code",
   "execution_count": 6,
   "id": "ef6b7107",
   "metadata": {},
   "outputs": [],
   "source": [
    "# dato un df restituisce numero di righe, colonne e celle\n",
    "def extract_data_from_df(df):\n",
    "    return {\n",
    "        \"rows\": df.shape[0],\n",
    "        \"columns\": df.shape[1],\n",
    "        \"cells\": df.shape[0] * df.shape[1]\n",
    "    }"
   ]
  },
  {
   "cell_type": "code",
   "execution_count": 7,
   "id": "ba6e8bc3",
   "metadata": {},
   "outputs": [],
   "source": [
    "info_datasets = []\n",
    "for i in range(0, len(json_object)):\n",
    "    df = pd.read_json(json_object[i][\"dataset\"], orient=\"index\", encoding=\"utf-8\")\n",
    "    info = extract_data_from_df(df)\n",
    "    info_datasets.append([\n",
    "        json_object[i][\"group_name\"],\n",
    "        json_object[i][\"dataset_name\"],\n",
    "        info[\"rows\"],\n",
    "        info[\"columns\"],\n",
    "        info[\"cells\"]\n",
    "    ])"
   ]
  },
  {
   "cell_type": "code",
   "execution_count": 8,
   "id": "98a59833",
   "metadata": {},
   "outputs": [],
   "source": [
    "# costruisce un df a partire da un array di array e un numero c che rappresenta la colonna su cui ordinare\n",
    "# reverse serve a ordinare in senso crescente o descrescente\n",
    "def get_info_order_by(list_of_info, c, reverse=False):\n",
    "    sorted_list = sorted(list_of_info, key = lambda x: x[c], reverse=reverse)\n",
    "    df = pd.DataFrame(sorted_list, columns=[\"group_name\", \"dataset_name\", \"rows\", \"columns\", \"cells\"])\n",
    "    return df"
   ]
  },
  {
   "cell_type": "code",
   "execution_count": 9,
   "id": "5c08396c",
   "metadata": {
    "scrolled": true
   },
   "outputs": [
    {
     "data": {
      "text/html": [
       "<div>\n",
       "<style scoped>\n",
       "    .dataframe tbody tr th:only-of-type {\n",
       "        vertical-align: middle;\n",
       "    }\n",
       "\n",
       "    .dataframe tbody tr th {\n",
       "        vertical-align: top;\n",
       "    }\n",
       "\n",
       "    .dataframe thead th {\n",
       "        text-align: right;\n",
       "    }\n",
       "</style>\n",
       "<table border=\"1\" class=\"dataframe\">\n",
       "  <thead>\n",
       "    <tr style=\"text-align: right;\">\n",
       "      <th></th>\n",
       "      <th>group_name</th>\n",
       "      <th>dataset_name</th>\n",
       "      <th>rows</th>\n",
       "      <th>columns</th>\n",
       "      <th>cells</th>\n",
       "    </tr>\n",
       "  </thead>\n",
       "  <tbody>\n",
       "    <tr>\n",
       "      <th>0</th>\n",
       "      <td>02-GioPonSpiz</td>\n",
       "      <td>wikipedia</td>\n",
       "      <td>2664</td>\n",
       "      <td>5</td>\n",
       "      <td>13320</td>\n",
       "    </tr>\n",
       "    <tr>\n",
       "      <th>1</th>\n",
       "      <td>05-MalPatSaj</td>\n",
       "      <td>wikipedia</td>\n",
       "      <td>3111</td>\n",
       "      <td>7</td>\n",
       "      <td>21777</td>\n",
       "    </tr>\n",
       "    <tr>\n",
       "      <th>2</th>\n",
       "      <td>06-MarScoToc</td>\n",
       "      <td>wikipedia</td>\n",
       "      <td>619</td>\n",
       "      <td>5</td>\n",
       "      <td>3095</td>\n",
       "    </tr>\n",
       "    <tr>\n",
       "      <th>3</th>\n",
       "      <td>10-DeBiGa</td>\n",
       "      <td>wikipedia</td>\n",
       "      <td>1002</td>\n",
       "      <td>13</td>\n",
       "      <td>13026</td>\n",
       "    </tr>\n",
       "    <tr>\n",
       "      <th>4</th>\n",
       "      <td>00-avengers</td>\n",
       "      <td>valuetoday</td>\n",
       "      <td>10682</td>\n",
       "      <td>18</td>\n",
       "      <td>192276</td>\n",
       "    </tr>\n",
       "    <tr>\n",
       "      <th>5</th>\n",
       "      <td>02-GioPonSpiz</td>\n",
       "      <td>valuetoday</td>\n",
       "      <td>10680</td>\n",
       "      <td>6</td>\n",
       "      <td>64080</td>\n",
       "    </tr>\n",
       "    <tr>\n",
       "      <th>6</th>\n",
       "      <td>03-gren</td>\n",
       "      <td>valuetoday</td>\n",
       "      <td>10682</td>\n",
       "      <td>10</td>\n",
       "      <td>106820</td>\n",
       "    </tr>\n",
       "    <tr>\n",
       "      <th>7</th>\n",
       "      <td>04-iGMM</td>\n",
       "      <td>valuetoday</td>\n",
       "      <td>10000</td>\n",
       "      <td>12</td>\n",
       "      <td>120000</td>\n",
       "    </tr>\n",
       "    <tr>\n",
       "      <th>8</th>\n",
       "      <td>07-silvestri</td>\n",
       "      <td>valuetoday</td>\n",
       "      <td>1000</td>\n",
       "      <td>9</td>\n",
       "      <td>9000</td>\n",
       "    </tr>\n",
       "    <tr>\n",
       "      <th>9</th>\n",
       "      <td>08-slytherin</td>\n",
       "      <td>valuetoday</td>\n",
       "      <td>10000</td>\n",
       "      <td>8</td>\n",
       "      <td>80000</td>\n",
       "    </tr>\n",
       "    <tr>\n",
       "      <th>10</th>\n",
       "      <td>01-DDD</td>\n",
       "      <td>teamblind</td>\n",
       "      <td>946</td>\n",
       "      <td>7</td>\n",
       "      <td>6622</td>\n",
       "    </tr>\n",
       "    <tr>\n",
       "      <th>11</th>\n",
       "      <td>09-wissel</td>\n",
       "      <td>infoclipper</td>\n",
       "      <td>4656</td>\n",
       "      <td>11</td>\n",
       "      <td>51216</td>\n",
       "    </tr>\n",
       "    <tr>\n",
       "      <th>12</th>\n",
       "      <td>00-avengers</td>\n",
       "      <td>hithorizons</td>\n",
       "      <td>667</td>\n",
       "      <td>9</td>\n",
       "      <td>6003</td>\n",
       "    </tr>\n",
       "    <tr>\n",
       "      <th>13</th>\n",
       "      <td>09-wissel</td>\n",
       "      <td>govuk</td>\n",
       "      <td>1321</td>\n",
       "      <td>10</td>\n",
       "      <td>13210</td>\n",
       "    </tr>\n",
       "    <tr>\n",
       "      <th>14</th>\n",
       "      <td>10-DeBiGa</td>\n",
       "      <td>govuk</td>\n",
       "      <td>7000</td>\n",
       "      <td>7</td>\n",
       "      <td>49000</td>\n",
       "    </tr>\n",
       "    <tr>\n",
       "      <th>15</th>\n",
       "      <td>10-DeBiGa</td>\n",
       "      <td>globaldata</td>\n",
       "      <td>5336</td>\n",
       "      <td>9</td>\n",
       "      <td>48024</td>\n",
       "    </tr>\n",
       "    <tr>\n",
       "      <th>16</th>\n",
       "      <td>01-DDD</td>\n",
       "      <td>ft</td>\n",
       "      <td>1000</td>\n",
       "      <td>11</td>\n",
       "      <td>11000</td>\n",
       "    </tr>\n",
       "    <tr>\n",
       "      <th>17</th>\n",
       "      <td>03-gren</td>\n",
       "      <td>ft</td>\n",
       "      <td>1000</td>\n",
       "      <td>8</td>\n",
       "      <td>8000</td>\n",
       "    </tr>\n",
       "    <tr>\n",
       "      <th>18</th>\n",
       "      <td>07-silvestri</td>\n",
       "      <td>ft</td>\n",
       "      <td>1000</td>\n",
       "      <td>8</td>\n",
       "      <td>8000</td>\n",
       "    </tr>\n",
       "    <tr>\n",
       "      <th>19</th>\n",
       "      <td>08-slytherin</td>\n",
       "      <td>ft</td>\n",
       "      <td>5000</td>\n",
       "      <td>7</td>\n",
       "      <td>35000</td>\n",
       "    </tr>\n",
       "    <tr>\n",
       "      <th>20</th>\n",
       "      <td>05-MalPatSaj</td>\n",
       "      <td>forbes</td>\n",
       "      <td>2000</td>\n",
       "      <td>7</td>\n",
       "      <td>14000</td>\n",
       "    </tr>\n",
       "    <tr>\n",
       "      <th>21</th>\n",
       "      <td>07-silvestri</td>\n",
       "      <td>forbes</td>\n",
       "      <td>1000</td>\n",
       "      <td>4</td>\n",
       "      <td>4000</td>\n",
       "    </tr>\n",
       "    <tr>\n",
       "      <th>22</th>\n",
       "      <td>08-slytherin</td>\n",
       "      <td>forbes</td>\n",
       "      <td>2000</td>\n",
       "      <td>8</td>\n",
       "      <td>16000</td>\n",
       "    </tr>\n",
       "    <tr>\n",
       "      <th>23</th>\n",
       "      <td>00-avengers</td>\n",
       "      <td>disfold</td>\n",
       "      <td>1000</td>\n",
       "      <td>11</td>\n",
       "      <td>11000</td>\n",
       "    </tr>\n",
       "    <tr>\n",
       "      <th>24</th>\n",
       "      <td>02-GioPonSpiz</td>\n",
       "      <td>disfold</td>\n",
       "      <td>1000</td>\n",
       "      <td>6</td>\n",
       "      <td>6000</td>\n",
       "    </tr>\n",
       "    <tr>\n",
       "      <th>25</th>\n",
       "      <td>03-gren</td>\n",
       "      <td>disfold</td>\n",
       "      <td>1000</td>\n",
       "      <td>6</td>\n",
       "      <td>6000</td>\n",
       "    </tr>\n",
       "    <tr>\n",
       "      <th>26</th>\n",
       "      <td>04-iGMM</td>\n",
       "      <td>disfold</td>\n",
       "      <td>1000</td>\n",
       "      <td>14</td>\n",
       "      <td>14000</td>\n",
       "    </tr>\n",
       "    <tr>\n",
       "      <th>27</th>\n",
       "      <td>05-MalPatSaj</td>\n",
       "      <td>disfold</td>\n",
       "      <td>1000</td>\n",
       "      <td>7</td>\n",
       "      <td>7000</td>\n",
       "    </tr>\n",
       "    <tr>\n",
       "      <th>28</th>\n",
       "      <td>06-MarScoToc</td>\n",
       "      <td>disfold</td>\n",
       "      <td>960</td>\n",
       "      <td>5</td>\n",
       "      <td>4800</td>\n",
       "    </tr>\n",
       "    <tr>\n",
       "      <th>29</th>\n",
       "      <td>07-silvestri</td>\n",
       "      <td>disfold</td>\n",
       "      <td>1000</td>\n",
       "      <td>5</td>\n",
       "      <td>5000</td>\n",
       "    </tr>\n",
       "    <tr>\n",
       "      <th>30</th>\n",
       "      <td>08-slytherin</td>\n",
       "      <td>disfold</td>\n",
       "      <td>16097</td>\n",
       "      <td>6</td>\n",
       "      <td>96582</td>\n",
       "    </tr>\n",
       "    <tr>\n",
       "      <th>31</th>\n",
       "      <td>10-DeBiGa</td>\n",
       "      <td>disfold</td>\n",
       "      <td>1000</td>\n",
       "      <td>10</td>\n",
       "      <td>10000</td>\n",
       "    </tr>\n",
       "    <tr>\n",
       "      <th>32</th>\n",
       "      <td>00-avengers</td>\n",
       "      <td>companiesmarketcap</td>\n",
       "      <td>5897</td>\n",
       "      <td>9</td>\n",
       "      <td>53073</td>\n",
       "    </tr>\n",
       "    <tr>\n",
       "      <th>33</th>\n",
       "      <td>01-DDD</td>\n",
       "      <td>companiesmarketcap</td>\n",
       "      <td>7217</td>\n",
       "      <td>9</td>\n",
       "      <td>64953</td>\n",
       "    </tr>\n",
       "    <tr>\n",
       "      <th>34</th>\n",
       "      <td>02-GioPonSpiz</td>\n",
       "      <td>companiesmarketcap</td>\n",
       "      <td>7200</td>\n",
       "      <td>5</td>\n",
       "      <td>36000</td>\n",
       "    </tr>\n",
       "    <tr>\n",
       "      <th>35</th>\n",
       "      <td>03-gren</td>\n",
       "      <td>companiesmarketcap</td>\n",
       "      <td>7163</td>\n",
       "      <td>4</td>\n",
       "      <td>28652</td>\n",
       "    </tr>\n",
       "    <tr>\n",
       "      <th>36</th>\n",
       "      <td>04-iGMM</td>\n",
       "      <td>companiesmarketcap</td>\n",
       "      <td>7093</td>\n",
       "      <td>9</td>\n",
       "      <td>63837</td>\n",
       "    </tr>\n",
       "    <tr>\n",
       "      <th>37</th>\n",
       "      <td>05-MalPatSaj</td>\n",
       "      <td>companiesmarketcap</td>\n",
       "      <td>7000</td>\n",
       "      <td>6</td>\n",
       "      <td>42000</td>\n",
       "    </tr>\n",
       "    <tr>\n",
       "      <th>38</th>\n",
       "      <td>06-MarScoToc</td>\n",
       "      <td>companiesmarketcap</td>\n",
       "      <td>6290</td>\n",
       "      <td>5</td>\n",
       "      <td>31450</td>\n",
       "    </tr>\n",
       "    <tr>\n",
       "      <th>39</th>\n",
       "      <td>09-wissel</td>\n",
       "      <td>companiesmarketcap</td>\n",
       "      <td>6560</td>\n",
       "      <td>11</td>\n",
       "      <td>72160</td>\n",
       "    </tr>\n",
       "    <tr>\n",
       "      <th>40</th>\n",
       "      <td>01-DDD</td>\n",
       "      <td>cbinsights</td>\n",
       "      <td>1185</td>\n",
       "      <td>11</td>\n",
       "      <td>13035</td>\n",
       "    </tr>\n",
       "    <tr>\n",
       "      <th>41</th>\n",
       "      <td>04-iGMM</td>\n",
       "      <td>cbinsights</td>\n",
       "      <td>1202</td>\n",
       "      <td>7</td>\n",
       "      <td>8414</td>\n",
       "    </tr>\n",
       "    <tr>\n",
       "      <th>42</th>\n",
       "      <td>09-wissel</td>\n",
       "      <td>ariregister</td>\n",
       "      <td>1469</td>\n",
       "      <td>10</td>\n",
       "      <td>14690</td>\n",
       "    </tr>\n",
       "    <tr>\n",
       "      <th>43</th>\n",
       "      <td>06-MarScoToc</td>\n",
       "      <td>ambitiobox</td>\n",
       "      <td>9899</td>\n",
       "      <td>5</td>\n",
       "      <td>49495</td>\n",
       "    </tr>\n",
       "  </tbody>\n",
       "</table>\n",
       "</div>"
      ],
      "text/plain": [
       "       group_name        dataset_name   rows  columns   cells\n",
       "0   02-GioPonSpiz           wikipedia   2664        5   13320\n",
       "1    05-MalPatSaj           wikipedia   3111        7   21777\n",
       "2    06-MarScoToc           wikipedia    619        5    3095\n",
       "3       10-DeBiGa           wikipedia   1002       13   13026\n",
       "4     00-avengers          valuetoday  10682       18  192276\n",
       "5   02-GioPonSpiz          valuetoday  10680        6   64080\n",
       "6         03-gren          valuetoday  10682       10  106820\n",
       "7         04-iGMM          valuetoday  10000       12  120000\n",
       "8    07-silvestri          valuetoday   1000        9    9000\n",
       "9    08-slytherin          valuetoday  10000        8   80000\n",
       "10         01-DDD           teamblind    946        7    6622\n",
       "11      09-wissel         infoclipper   4656       11   51216\n",
       "12    00-avengers         hithorizons    667        9    6003\n",
       "13      09-wissel               govuk   1321       10   13210\n",
       "14      10-DeBiGa               govuk   7000        7   49000\n",
       "15      10-DeBiGa          globaldata   5336        9   48024\n",
       "16         01-DDD                  ft   1000       11   11000\n",
       "17        03-gren                  ft   1000        8    8000\n",
       "18   07-silvestri                  ft   1000        8    8000\n",
       "19   08-slytherin                  ft   5000        7   35000\n",
       "20   05-MalPatSaj              forbes   2000        7   14000\n",
       "21   07-silvestri              forbes   1000        4    4000\n",
       "22   08-slytherin              forbes   2000        8   16000\n",
       "23    00-avengers             disfold   1000       11   11000\n",
       "24  02-GioPonSpiz             disfold   1000        6    6000\n",
       "25        03-gren             disfold   1000        6    6000\n",
       "26        04-iGMM             disfold   1000       14   14000\n",
       "27   05-MalPatSaj             disfold   1000        7    7000\n",
       "28   06-MarScoToc             disfold    960        5    4800\n",
       "29   07-silvestri             disfold   1000        5    5000\n",
       "30   08-slytherin             disfold  16097        6   96582\n",
       "31      10-DeBiGa             disfold   1000       10   10000\n",
       "32    00-avengers  companiesmarketcap   5897        9   53073\n",
       "33         01-DDD  companiesmarketcap   7217        9   64953\n",
       "34  02-GioPonSpiz  companiesmarketcap   7200        5   36000\n",
       "35        03-gren  companiesmarketcap   7163        4   28652\n",
       "36        04-iGMM  companiesmarketcap   7093        9   63837\n",
       "37   05-MalPatSaj  companiesmarketcap   7000        6   42000\n",
       "38   06-MarScoToc  companiesmarketcap   6290        5   31450\n",
       "39      09-wissel  companiesmarketcap   6560       11   72160\n",
       "40         01-DDD          cbinsights   1185       11   13035\n",
       "41        04-iGMM          cbinsights   1202        7    8414\n",
       "42      09-wissel         ariregister   1469       10   14690\n",
       "43   06-MarScoToc          ambitiobox   9899        5   49495"
      ]
     },
     "metadata": {},
     "output_type": "display_data"
    }
   ],
   "source": [
    "df_info = get_info_order_by(info_datasets, 1, True)\n",
    "display(df_info)"
   ]
  },
  {
   "cell_type": "code",
   "execution_count": 10,
   "id": "7deeb231",
   "metadata": {},
   "outputs": [
    {
     "data": {
      "text/plain": [
       "185598"
      ]
     },
     "execution_count": 10,
     "metadata": {},
     "output_type": "execute_result"
    }
   ],
   "source": [
    "sum(df_info[\"rows\"])"
   ]
  },
  {
   "cell_type": "markdown",
   "id": "4ffa59ef",
   "metadata": {},
   "source": [
    "### Plot numero di valori distinti e nulli per colonna, per ogni dataset"
   ]
  },
  {
   "cell_type": "code",
   "execution_count": 11,
   "id": "cb6dd98e",
   "metadata": {},
   "outputs": [],
   "source": [
    "# funzione di utilita per count_type_in_list(), serve a convertire una stringa in int o float\n",
    "def maybeMakeNumber(s):\n",
    "    if s is np.nan:\n",
    "        return None\n",
    "    if s is pd.NA:\n",
    "        return None\n",
    "    else:\n",
    "        if not isinstance(s, float):\n",
    "            try:\n",
    "                return int(s)\n",
    "            except:\n",
    "                try:\n",
    "                    return float(s)\n",
    "                except:\n",
    "                    return s\n",
    "        else:\n",
    "            return s"
   ]
  },
  {
   "cell_type": "code",
   "execution_count": 12,
   "id": "d20cf8c1",
   "metadata": {},
   "outputs": [],
   "source": [
    "# conta il numero di int, float e str in una lista di stringhe\n",
    "def count_type_in_list(l):\n",
    "    info = {}\n",
    "    converted = list(map(maybeMakeNumber, l))\n",
    "    converted = [0 if isinstance(x, int) else x for x in converted]\n",
    "    converted = [1 if isinstance(x, float) else x for x in converted]\n",
    "    converted = [2 if isinstance(x, str) else x for x in converted]\n",
    "    info[\"#int\"] = converted.count(0)\n",
    "    info[\"#float\"] = converted.count(1)\n",
    "    info[\"#str\"] = converted.count(2)\n",
    "    return info"
   ]
  },
  {
   "cell_type": "code",
   "execution_count": 13,
   "id": "eedc71e8",
   "metadata": {},
   "outputs": [],
   "source": [
    "# estrazione dati da un dataframe\n",
    "def extract_data_from_df(df):\n",
    "    info = {}\n",
    "    info[\"#righe\"] = df.shape[0]\n",
    "    info[\"#colonne\"] = df.shape[1]\n",
    "    info[\"#celle\"] = df.shape[0] * df.shape[1]\n",
    "    info[\"#celle_nulle\"] = df.isnull().sum().sum()\n",
    "    info[\"#righe_con_celle_nulle\"] = (df.isnull().sum(axis=1) != 0).sum()\n",
    "    info[\"#colonne_con_celle_nulle\"] = (df.isnull().sum(axis=0) != 0).sum()\n",
    "    info[\"#celle_vuote\"] = (df == '').sum().sum()\n",
    "    info[\"#righe_con_celle_vuote\"] = ((df == '').sum(axis=1) != 0).sum()\n",
    "    info[\"#colonne_con_celle_vuote\"] = ((df == '').sum(axis=0) != 0).sum()\n",
    "    info[\"#celle_int\"] = 0\n",
    "    info[\"#celle_float\"] = 0\n",
    "    info[\"#celle_str\"] = 0\n",
    "    info[\"#colonne_int\"] = 0\n",
    "    info[\"#colonne_float\"] = 0\n",
    "    info[\"#colonne_str\"] = 0\n",
    "    for key in df:\n",
    "        column = list(df[key])\n",
    "        info_type = count_type_in_list(column)\n",
    "        not_value_column = len(list(filter(lambda x: x is not np.nan and x is not pd.NA, column)))\n",
    "        info[\"#celle_int\"] += info_type[\"#int\"]\n",
    "        info[\"#celle_float\"] += info_type[\"#float\"]\n",
    "        info[\"#celle_str\"] += info_type[\"#str\"]\n",
    "        if not_value_column == info_type[\"#int\"]:\n",
    "            info[\"#colonne_int\"] += 1\n",
    "        elif not_value_column == info_type[\"#float\"]:\n",
    "            info[\"#colonne_float\"] += 1\n",
    "        elif not_value_column == info_type[\"#str\"]:\n",
    "            info[\"#colonne_str\"] += 1\n",
    "\n",
    "    info[\"#valori_nulli_per_colonna\"] = dict(df.apply(lambda x: pd.Series(x).isnull().sum()))\n",
    "    info[\"#valori_distinti_per_colonna\"] = dict(df.apply(lambda x: pd.Series(x).explode().nunique()))  \n",
    "    \n",
    "    return info"
   ]
  },
  {
   "cell_type": "code",
   "execution_count": 14,
   "id": "6ab89e12",
   "metadata": {},
   "outputs": [],
   "source": [
    "tables = {}\n",
    "for i in range(0, len(json_object)):\n",
    "    df = pd.read_json(json_object[i][\"dataset\"], orient=\"index\", encoding=\"utf-8\")\n",
    "    tables[\"table-\" + str(i)] = extract_data_from_df(df)"
   ]
  },
  {
   "cell_type": "code",
   "execution_count": 15,
   "id": "03527b2b",
   "metadata": {},
   "outputs": [],
   "source": [
    "info_tables = {\n",
    "    \"#tabelle\": 0,\n",
    "    \"#tabelle_con_celle_vuote\": 0,\n",
    "    \"#tabelle_senza_celle_vuote\": 0,\n",
    "    \"#tabelle_con_celle_nulle\": 0,\n",
    "    \"#tabelle_senza_celle_nulle\": 0\n",
    "}\n",
    "info_rows = {\n",
    "    \"#righe\": 0,\n",
    "    \"#righe_medie_per_tabella\": 0,\n",
    "    \"#righe_con_celle_vuote\": 0,\n",
    "    \"#righe_con_celle_nulle\": 0,\n",
    "    \"#righe_con_celle_non_vuote\": 0,\n",
    "    \"#righe_con_celle_non_nulle\": 0\n",
    "}\n",
    "info_columns = {\n",
    "    \"#colonne\": 0,\n",
    "    \"#colonne_medie_per_tabella\": 0,\n",
    "    \"#colonne_int\": 0,\n",
    "    \"#colonne_float\": 0,\n",
    "    \"#colonne_str\": 0,\n",
    "    \"#colonne_misc\": 0,\n",
    "    \"#colonne_con_celle_vuote\": 0,\n",
    "    \"#colonne_con_celle_nulle\": 0,\n",
    "    \"#colonne_con_celle_non_vuote\": 0,\n",
    "    \"#colonne_con_celle_non_nulle\": 0\n",
    "}\n",
    "info_cells = {\n",
    "    \"#celle\": 0,\n",
    "    \"#celle_int\": 0,\n",
    "    \"#celle_float\": 0,\n",
    "    \"#celle_str\": 0,\n",
    "    \"#media_celle_vuote_per_tabella\": 0,\n",
    "    \"#media_celle_nulle_per_tabella\": 0,\n",
    "    \"#celle_vuote\": 0,\n",
    "    \"#celle_non_vuote\": 0,\n",
    "    \"#celle_nulle\": 0,\n",
    "    \"#celle_non_nulle\": 0\n",
    "}\n",
    "\n",
    "n_rows_dict = {}\n",
    "n_columns_dict = {}"
   ]
  },
  {
   "cell_type": "code",
   "execution_count": 16,
   "id": "f18b3c1d",
   "metadata": {},
   "outputs": [],
   "source": [
    "info_tables[\"#tabelle\"] = len(tables)\n",
    "\n",
    "for key, info in tables.items():\n",
    "\n",
    "    info_rows[\"#righe\"] += info[\"#righe\"]\n",
    "    info_rows[\"#righe_con_celle_vuote\"] += info[\"#righe_con_celle_vuote\"]\n",
    "    info_rows[\"#righe_con_celle_nulle\"] += info[\"#righe_con_celle_nulle\"]\n",
    "\n",
    "    info_columns[\"#colonne\"] += info[\"#colonne\"]\n",
    "    info_columns[\"#colonne_int\"] += info[\"#colonne_int\"]\n",
    "    info_columns[\"#colonne_float\"] += info[\"#colonne_float\"]\n",
    "    info_columns[\"#colonne_str\"] += info[\"#colonne_str\"]\n",
    "    info_columns[\"#colonne_con_celle_vuote\"] += info[\"#colonne_con_celle_vuote\"]\n",
    "    info_columns[\"#colonne_con_celle_nulle\"] += info[\"#colonne_con_celle_nulle\"]\n",
    "\n",
    "    info_cells[\"#celle\"] += info[\"#celle\"]\n",
    "    info_cells[\"#celle_int\"] += info[\"#celle_int\"]\n",
    "    info_cells[\"#celle_float\"] += info[\"#celle_float\"]\n",
    "    info_cells[\"#celle_str\"] += info[\"#celle_str\"]\n",
    "    info_cells[\"#celle_vuote\"] += info[\"#celle_vuote\"]\n",
    "    info_cells[\"#celle_non_vuote\"] += info[\"#celle\"] - info[\"#celle_vuote\"]\n",
    "    info_cells[\"#celle_nulle\"] += info[\"#celle_nulle\"]\n",
    "    info_cells[\"#celle_non_nulle\"] += info[\"#celle\"] - info[\"#celle_nulle\"]\n",
    "\n",
    "    if info[\"#celle_vuote\"] > 0:\n",
    "        info_tables[\"#tabelle_con_celle_vuote\"] += 1\n",
    "    if info[\"#celle_nulle\"] > 0:\n",
    "        info_tables[\"#tabelle_con_celle_nulle\"] += 1\n",
    "\n",
    "    if info[\"#righe\"] not in n_rows_dict.keys():\n",
    "        n_rows_dict[info[\"#righe\"]] = 0\n",
    "    if info[\"#colonne\"] not in n_columns_dict.keys():\n",
    "        n_columns_dict[info[\"#colonne\"]] = 0\n",
    "    n_rows_dict[info[\"#righe\"]] += 1\n",
    "    n_columns_dict[info[\"#colonne\"]] += 1\n",
    "\n",
    "info_tables[\"#tabelle_senza_celle_vuote\"] = info_tables[\"#tabelle\"] - info_tables[\"#tabelle_con_celle_vuote\"]\n",
    "info_tables[\"#tabelle_senza_celle_nulle\"] = info_tables[\"#tabelle\"] - info_tables[\"#tabelle_con_celle_nulle\"]\n",
    "\n",
    "info_rows[\"#righe_con_celle_non_vuote\"] = info_rows[\"#righe\"] - info_rows[\"#righe_con_celle_vuote\"]\n",
    "info_rows[\"#righe_con_celle_non_nulle\"] = info_rows[\"#righe\"] - info_rows[\"#righe_con_celle_nulle\"]\n",
    "info_rows[\"#righe_medie_per_tabella\"] = info_rows[\"#righe\"] / info_tables[\"#tabelle\"]\n",
    "\n",
    "info_columns[\"#colonne_misc\"] = info_columns[\"#colonne\"] - (\n",
    "        info_columns[\"#colonne_int\"] + info_columns[\"#colonne_float\"] + info_columns[\"#colonne_str\"])\n",
    "info_columns[\"#colonne_con_celle_non_vuote\"] = info_columns[\"#colonne\"] - info_columns[\"#colonne_con_celle_vuote\"]\n",
    "info_columns[\"#colonne_con_celle_non_nulle\"] = info_columns[\"#colonne\"] - info_columns[\"#colonne_con_celle_nulle\"]\n",
    "info_columns[\"#colonne_medie_per_tabella\"] = info_columns[\"#colonne\"] / info_tables[\"#tabelle\"]\n",
    "\n",
    "info_cells[\"#media_celle_vuote_per_tabella\"] = info_cells[\"#celle_vuote\"] / info_tables[\"#tabelle\"]\n",
    "info_cells[\"#media_celle_nulle_per_tabella\"] = info_cells[\"#celle_nulle\"] / info_tables[\"#tabelle\"]\n",
    "\n",
    "r = collections.OrderedDict(sorted(n_rows_dict.items()))\n",
    "n_rows_dict = dict(r)\n",
    "c = collections.OrderedDict(sorted(n_columns_dict.items()))\n",
    "n_columns_dict = dict(c)"
   ]
  },
  {
   "cell_type": "code",
   "execution_count": 17,
   "id": "45502e6e",
   "metadata": {},
   "outputs": [],
   "source": [
    "color_of_bar = \"#C8A2C8\"\n",
    "color_of_edge = \"#000000\"\n",
    "\n",
    "counter = 0\n",
    "\n",
    "def make_path(file_name):\n",
    "    global counter\n",
    "    counter += 1\n",
    "    return \".\\\\plot\\\\\" + str(counter) + \"-\" + file_name"
   ]
  },
  {
   "cell_type": "code",
   "execution_count": 18,
   "id": "21f31581",
   "metadata": {},
   "outputs": [],
   "source": [
    "def plot_bar(keys, values, title, dim):\n",
    "    file_name = \"\".join(title.lower()).replace(\" \", \"_\")\n",
    "    labels = [\"{:,}\".format(elem) for elem in values]\n",
    "    labels = list(map(lambda x: x.replace(',', ' '), labels))\n",
    "\n",
    "    plt.figure(figsize=dim)\n",
    "    plt.grid(color=color_of_edge, linestyle='-', linewidth=0.2, axis=\"y\")\n",
    "    plt.title(title)\n",
    "    plt.yticks(values, labels)\n",
    "    plt.bar(keys, values, width=0.5, color=color_of_bar, edgecolor=color_of_edge, linewidth=1, align='center')\n",
    "    plt.savefig(make_path(file_name), bbox_inches='tight', transparent=True)\n",
    "    plt.show()"
   ]
  },
  {
   "cell_type": "code",
   "execution_count": 19,
   "id": "42799eea",
   "metadata": {},
   "outputs": [],
   "source": [
    "def plot_distribution(dict_of_distribution, title, xlabel, ylabel, dist, dim, type_of_plot):\n",
    "    plt.figure(figsize=dim)\n",
    "    plt.grid(color=color_of_edge, linestyle='-', linewidth=0.2, axis=\"y\")\n",
    "\n",
    "    file_name = \"\".join(title.lower()).replace(\" \", \"_\")\n",
    "\n",
    "    plt.xlabel(xlabel)\n",
    "    plt.ylabel(ylabel)\n",
    "    plt.title(title)\n",
    "\n",
    "    list1 = list(range(0, len(dict_of_distribution)))\n",
    "    list2 = list(map(str, dict_of_distribution.keys()))\n",
    "    list1 = list1[slice(0, len(list1), dist)]\n",
    "    list2 = list2[slice(0, len(list2), dist)]\n",
    "    plt.xticks(list1, list2, rotation=90)\n",
    "\n",
    "    x = list(map(str, dict_of_distribution.keys()))\n",
    "    y = list(dict_of_distribution.values())\n",
    "\n",
    "    if type_of_plot:\n",
    "        plt.bar(x, y, width=1.0, color=color_of_bar, align='center')\n",
    "        plt.plot(x, y, linewidth=1, color=color_of_edge)\n",
    "    else:\n",
    "        plt.bar(x, y, width=1.0, color=color_of_bar, edgecolor=color_of_edge, linewidth=1, align='center')\n",
    "\n",
    "    plt.savefig(make_path(file_name), bbox_inches='tight', transparent=True)\n",
    "    plt.show()"
   ]
  },
  {
   "cell_type": "code",
   "execution_count": 20,
   "id": "ad89b196",
   "metadata": {},
   "outputs": [
    {
     "data": {
      "image/png": "[encoded data removed]",
      "text/plain": [
       "<Figure size 504x288 with 1 Axes>"
      ]
     },
     "metadata": {
      "needs_background": "light"
     },
     "output_type": "display_data"
    }
   ],
   "source": [
    "keys = [\"# Tabelle\", \"# Tabelle con celle vuote\", \"# Tabelle con celle 'None'\"]\n",
    "values = [info_tables[\"#tabelle\"], info_tables[\"#tabelle_con_celle_vuote\"], info_tables[\"#tabelle_con_celle_nulle\"]]\n",
    "title = \"Confronto tabelle con celle vuote e nulle\"\n",
    "dim = (7, 4)\n",
    "plot_bar(keys, values, title, dim)"
   ]
  },
  {
   "cell_type": "code",
   "execution_count": 21,
   "id": "e73211bf",
   "metadata": {},
   "outputs": [
    {
     "data": {
      "image/png": "[encoded data removed]",
      "text/plain": [
       "<Figure size 504x288 with 1 Axes>"
      ]
     },
     "metadata": {
      "needs_background": "light"
     },
     "output_type": "display_data"
    }
   ],
   "source": [
    "keys = [\"# Celle\", \"# Celle vuote\", \"# Celle 'None'\"]\n",
    "values = [info_cells[\"#celle\"], info_cells[\"#celle_vuote\"], info_cells[\"#celle_nulle\"]]\n",
    "title = \"Confronto numero celle con celle vuote e nulle\"\n",
    "dim = (7, 4)\n",
    "plot_bar(keys, values, title, dim)"
   ]
  },
  {
   "cell_type": "code",
   "execution_count": 22,
   "id": "8a88d4db",
   "metadata": {},
   "outputs": [
    {
     "data": {
      "image/png": "[encoded data removed]",
      "text/plain": [
       "<Figure size 504x288 with 1 Axes>"
      ]
     },
     "metadata": {
      "needs_background": "light"
     },
     "output_type": "display_data"
    }
   ],
   "source": [
    "keys = [\"# Celle totali\", \"# Celle str\", \"# Celle int\", \"# Celle float\"]\n",
    "values = [info_cells[\"#celle\"], info_cells[\"#celle_str\"], info_cells[\"#celle_int\"], info_cells[\"#celle_float\"]]\n",
    "title = \"Confronto tipi celle\"\n",
    "dim = (7, 4)\n",
    "plot_bar(keys, values, title, dim)"
   ]
  },
  {
   "cell_type": "code",
   "execution_count": 23,
   "id": "53e7f28d",
   "metadata": {},
   "outputs": [
    {
     "data": {
      "image/png": "[encoded data removed]",
      "text/plain": [
       "<Figure size 504x288 with 1 Axes>"
      ]
     },
     "metadata": {
      "needs_background": "light"
     },
     "output_type": "display_data"
    }
   ],
   "source": [
    "keys = [\"# Righe\", \"# Righe con celle vuote\", \"# Righe con celle 'None'\"]\n",
    "values = [info_rows[\"#righe\"], info_rows[\"#righe_con_celle_vuote\"], info_rows[\"#righe_con_celle_nulle\"]]\n",
    "title = \"Confronto righe con celle vuote e nulle\"\n",
    "dim = (7, 4)\n",
    "plot_bar(keys, values, title, dim)"
   ]
  },
  {
   "cell_type": "code",
   "execution_count": 24,
   "id": "9edeb21b",
   "metadata": {},
   "outputs": [
    {
     "data": {
      "image/png": "[encoded data removed]",
      "text/plain": [
       "<Figure size 504x288 with 1 Axes>"
      ]
     },
     "metadata": {
      "needs_background": "light"
     },
     "output_type": "display_data"
    }
   ],
   "source": [
    "keys = [\"# Colonne\", \"# Colonne con celle vuote\", \"# Colonne con celle 'None'\"]\n",
    "values = [info_columns[\"#colonne\"], info_columns[\"#colonne_con_celle_vuote\"],\n",
    "          info_columns[\"#colonne_con_celle_nulle\"]]\n",
    "title = \"Confronto colonne con celle vuote e nulle\"\n",
    "dim = (7, 4)\n",
    "plot_bar(keys, values, title, dim)"
   ]
  },
  {
   "cell_type": "code",
   "execution_count": 25,
   "id": "7938694c",
   "metadata": {},
   "outputs": [
    {
     "data": {
      "image/png": "[encoded data removed]",
      "text/plain": [
       "<Figure size 504x288 with 1 Axes>"
      ]
     },
     "metadata": {
      "needs_background": "light"
     },
     "output_type": "display_data"
    }
   ],
   "source": [
    "keys = [\"# Colonne totali\", \"# Colonne str\", \"# Colonne misc\", \"# Colonne int\", \"# Colonne float\"]\n",
    "values = [info_columns[\"#colonne\"], info_columns[\"#colonne_str\"], info_columns[\"#colonne_misc\"],\n",
    "          info_columns[\"#colonne_int\"], info_columns[\"#colonne_float\"]]\n",
    "title = \"Confronto tipi colonne\"\n",
    "dim = (7, 4)\n",
    "plot_bar(keys, values, title, dim)"
   ]
  },
  {
   "cell_type": "code",
   "execution_count": 26,
   "id": "7a83f183",
   "metadata": {},
   "outputs": [
    {
     "data": {
      "image/png": "[encoded data removed]",
      "text/plain": [
       "<Figure size 720x360 with 1 Axes>"
      ]
     },
     "metadata": {
      "needs_background": "light"
     },
     "output_type": "display_data"
    }
   ],
   "source": [
    "plot_distribution(n_rows_dict, \"Distribuzione numero di righe\", \"Numero di righe\", \"Numero di tabelle\", 1, (10, 5), False)"
   ]
  },
  {
   "cell_type": "code",
   "execution_count": 27,
   "id": "670da57f",
   "metadata": {},
   "outputs": [
    {
     "data": {
      "image/png": "[encoded data removed]",
      "text/plain": [
       "<Figure size 720x360 with 1 Axes>"
      ]
     },
     "metadata": {
      "needs_background": "light"
     },
     "output_type": "display_data"
    }
   ],
   "source": [
    "plot_distribution(n_columns_dict, \"Distribuzione numero di colonne\", \"Numero di colonne\", \"Numero di tabelle\", 1, (10, 5), False)"
   ]
  },
  {
   "cell_type": "markdown",
   "id": "a9115993",
   "metadata": {},
   "source": [
    "### Plot statistiche clusters"
   ]
  },
  {
   "cell_type": "code",
   "execution_count": 28,
   "id": "5e11cfd9",
   "metadata": {},
   "outputs": [],
   "source": [
    "path_cluster = \"..\\\\..\\\\Dataset\\\\ClusterParsed\\\\\"\n",
    "\n",
    "cluster_null = {}\n",
    "cluster_uniq = {}\n",
    "\n",
    "cluster_righe = {}\n",
    "cluster_colonne = {}\n",
    "\n",
    "\n",
    "for dirname in os.listdir(path_cluster):\n",
    "    cluster = os.path.join(path_cluster, dirname)\n",
    "    \n",
    "    mean_null = []\n",
    "    mean_uniq = []\n",
    "    mean_r = []\n",
    "    mean_c = []\n",
    "    for filename in os.listdir(cluster):\n",
    "        file = os.path.join(cluster, filename)\n",
    "        df = pd.read_csv(file, encoding=\"utf-8\")\n",
    "        info = extract_data_from_df(df)\n",
    "        \n",
    "        r = info[\"#righe\"]\n",
    "        c = info[\"#colonne\"]\n",
    "        v_null = info[\"#valori_nulli_per_colonna\"]\n",
    "        v_uniq = info[\"#valori_distinti_per_colonna\"]\n",
    "        \n",
    "        m_n = sum(v_null.values()) / c\n",
    "        m_u = sum(v_uniq.values()) / c\n",
    "        \n",
    "        mean_null.append(m_n)\n",
    "        mean_uniq.append(m_u)\n",
    "        mean_r.append(r)\n",
    "        mean_c.append(c)\n",
    "    \n",
    "    if dirname == \"companiesmarketcap\":\n",
    "        dirname = \"cmc\"\n",
    "    cluster_null[dirname] = sum(mean_null) / len(mean_null)\n",
    "    cluster_uniq[dirname] = sum(mean_uniq) / len(mean_uniq)\n",
    "    cluster_righe[dirname] = sum(mean_r) / len(mean_r)\n",
    "    cluster_colonne[dirname] = sum(mean_c) / len(mean_c)\n",
    "        "
   ]
  },
  {
   "cell_type": "code",
   "execution_count": 29,
   "id": "d99702e9",
   "metadata": {},
   "outputs": [],
   "source": [
    "def plot_bar(keys, values, title, dim, colors):\n",
    "    file_name = \"\".join(title.lower()).replace(\" \", \"_\")\n",
    "    #labels = [\"{:,}\".format(elem) for elem in values]\n",
    "    #labels = list(map(lambda x: x.replace(',', ' '), labels))\n",
    "\n",
    "    plt.figure(figsize=dim)\n",
    "    plt.grid(color=color_of_edge, linestyle='-', linewidth=0.2, axis=\"y\")\n",
    "    plt.title(title)\n",
    "    #plt.yticks(values, labels)\n",
    "    plt.bar(keys, values, width=0.5, color=colors, edgecolor=color_of_edge, linewidth=1, align='center')\n",
    "    plt.savefig(make_path(file_name), bbox_inches='tight', transparent=True)\n",
    "    plt.show()"
   ]
  },
  {
   "cell_type": "code",
   "execution_count": 30,
   "id": "d565dcee",
   "metadata": {},
   "outputs": [
    {
     "data": {
      "image/png": "[encoded data removed]",
      "text/plain": [
       "<Figure size 1080x360 with 1 Axes>"
      ]
     },
     "metadata": {
      "needs_background": "light"
     },
     "output_type": "display_data"
    }
   ],
   "source": [
    "keys = list(cluster_righe.keys())\n",
    "values = list(cluster_righe.values())\n",
    "title = \"Media righe cluster\"\n",
    "dim = (15, 5)\n",
    "colors = ['#ffd3dc', '#b6e1fc', '#ffffb2', '#d6f0d6', '#dda0dd', '#ffe4e1', '#87cefa', '#afe0e8', '#ffb6c1', '#f4a460', '#f08080', '#f0e68c', '#dda0dd', '#dddddd']\n",
    "plot_bar(keys, values, title, dim, colors)"
   ]
  },
  {
   "cell_type": "code",
   "execution_count": 31,
   "id": "ccf74f43",
   "metadata": {},
   "outputs": [
    {
     "data": {
      "image/png": "[encoded data removed]",
      "text/plain": [
       "<Figure size 1080x360 with 1 Axes>"
      ]
     },
     "metadata": {
      "needs_background": "light"
     },
     "output_type": "display_data"
    }
   ],
   "source": [
    "keys = list(cluster_colonne.keys())\n",
    "values = list(cluster_colonne.values())\n",
    "title = \"Media colonne cluster\"\n",
    "dim = (15, 5)\n",
    "colors = ['#ffd3dc', '#b6e1fc', '#ffffb2', '#d6f0d6', '#dda0dd', '#ffe4e1', '#87cefa', '#afe0e8', '#ffb6c1', '#f4a460', '#f08080', '#f0e68c', '#dda0dd', '#dddddd']\n",
    "plot_bar(keys, values, title, dim, colors)"
   ]
  },
  {
   "cell_type": "code",
   "execution_count": 32,
   "id": "bd00e2fd",
   "metadata": {},
   "outputs": [
    {
     "data": {
      "image/png": "[encoded data removed]",
      "text/plain": [
       "<Figure size 1080x360 with 1 Axes>"
      ]
     },
     "metadata": {
      "needs_background": "light"
     },
     "output_type": "display_data"
    }
   ],
   "source": [
    "keys = list(cluster_null.keys())\n",
    "values = list(cluster_null.values())\n",
    "title = \"Media celle nulle per colonna\"\n",
    "dim = (15, 5)\n",
    "colors = ['#ffd3dc', '#b6e1fc', '#ffffb2', '#d6f0d6', '#dda0dd', '#ffe4e1', '#87cefa', '#afe0e8', '#ffb6c1', '#f4a460', '#f08080', '#f0e68c', '#dda0dd', '#dddddd']\n",
    "plot_bar(keys, values, title, dim, colors)"
   ]
  },
  {
   "cell_type": "code",
   "execution_count": 33,
   "id": "99342476",
   "metadata": {},
   "outputs": [
    {
     "data": {
      "image/png": "[encoded data removed]",
      "text/plain": [
       "<Figure size 1080x360 with 1 Axes>"
      ]
     },
     "metadata": {
      "needs_background": "light"
     },
     "output_type": "display_data"
    }
   ],
   "source": [
    "keys = list(cluster_uniq.keys())\n",
    "values = list(cluster_uniq.values())\n",
    "title = \"Media celle distinte per colonna\"\n",
    "dim = (15, 5)\n",
    "colors = ['#ffd3dc', '#b6e1fc', '#ffffb2', '#d6f0d6', '#dda0dd', '#ffe4e1', '#87cefa', '#afe0e8', '#ffb6c1', '#f4a460', '#f08080', '#f0e68c', '#dda0dd', '#dddddd']\n",
    "plot_bar(keys, values, title, dim, colors)"
   ]
  },
  {
   "cell_type": "markdown",
   "id": "bfd2ec9e",
   "metadata": {},
   "source": [
    "### Word cloud"
   ]
  },
  {
   "cell_type": "code",
   "execution_count": null,
   "id": "08f60903",
   "metadata": {},
   "outputs": [],
   "source": [
    "for i in range(0, len(json_object)):\n",
    "    \n",
    "    df = pd.read_json(json_object[i][\"dataset\"], orient=\"index\", encoding=\"utf-8\")\n",
    "    for column in list(df.columns):\n",
    "        \n",
    "        if column == \"name\":\n",
    "        \n",
    "            df[column] = df[column].fillna(value=\"\")\n",
    "\n",
    "            word_string = \"\"\n",
    "\n",
    "            for val in df[column]:\n",
    "                val = str(val)\n",
    "                tokens = val.split()\n",
    "                for token in tokens:\n",
    "                    t = re.sub('[^A-Za-z]+', ' ', token)\n",
    "                    t = t.lower()\n",
    "                    other_tokens = t.split()\n",
    "                    tmp = \"\".join(other_tokens)\n",
    "                    if len(tmp) > 3:\n",
    "                        word_string += tmp+\" \"\n",
    "\n",
    "            with open('words.txt', 'a', encoding='utf-8') as f:\n",
    "                f.write(word_string) "
   ]
  },
  {
   "cell_type": "code",
   "execution_count": null,
   "id": "2042fc6e",
   "metadata": {},
   "outputs": [],
   "source": [
    "dict_frequent_term = {}\n",
    "with open('words.txt', 'r', encoding='utf-8') as f:\n",
    "    word_string = f.read() \n",
    "    for token in word_string.split():\n",
    "        if token not in dict_frequent_term.keys():\n",
    "            dict_frequent_term[token] = 0\n",
    "        dict_frequent_term[token] += 1\n",
    "dict_frequent_term = dict(sorted(dict_frequent_term.items(), key=lambda x: x[1], reverse=True))"
   ]
  },
  {
   "cell_type": "code",
   "execution_count": null,
   "id": "af546017",
   "metadata": {},
   "outputs": [],
   "source": [
    "for x in [150000]:#[1000, 100, 50, 30, 10]:\n",
    "    stop = {k: v for k, v in dict_frequent_term.items() if v > x}\n",
    "    with open('words.txt', 'r', encoding='utf-8') as f:\n",
    "        word_string = f.read() \n",
    "\n",
    "        plt.figure(figsize=(10,10))\n",
    "\n",
    "        stop_words = list(STOPWORDS) + list(stop.keys())\n",
    "        \n",
    "        mask = np.array(Image.open(\"mask3.png\"))\n",
    "        \n",
    "        wc = WordCloud(background_color=\"white\", stopwords = stop_words, max_words=2000, max_font_size= 300,  width=1600, height=800, mask=mask)\n",
    "        wc.generate(word_string)\n",
    "        plt.imshow(wc, interpolation=\"bilinear\")\n",
    "        plt.axis('off')\n",
    "        plt.savefig(make_path(str(x)+\"-wordcloud\"), bbox_inches='tight', transparent=True)"
   ]
  },
  {
   "cell_type": "code",
   "execution_count": null,
   "id": "e4389cfc",
   "metadata": {},
   "outputs": [],
   "source": []
  },
  {
   "cell_type": "code",
   "execution_count": null,
   "id": "f596600e",
   "metadata": {},
   "outputs": [],
   "source": []
  }
 ],
 "metadata": {
  "kernelspec": {
   "display_name": "Python 3",
   "language": "python",
   "name": "python3"
  },
  "language_info": {
   "codemirror_mode": {
    "name": "ipython",
    "version": 3
   },
   "file_extension": ".py",
   "mimetype": "text/x-python",
   "name": "python",
   "nbconvert_exporter": "python",
   "pygments_lexer": "ipython3",
   "version": "3.8.8"
  }
 },
 "nbformat": 4,
 "nbformat_minor": 5
}
