{
 "cells": [
  {
   "cell_type": "markdown",
   "id": "018ad5ad",
   "metadata": {},
   "source": [
    "# Profiling dataset finale"
   ]
  },
  {
   "cell_type": "code",
   "execution_count": null,
   "id": "4df09708",
   "metadata": {},
   "outputs": [],
   "source": [
    "import os\n",
    "import pandas as pd\n",
    "import json\n",
    "import matplotlib.pyplot as plt\n",
    "import numpy as np\n",
    "import matplotlib.colors\n",
    "from itertools import combinations\n",
    "import shutil\n",
    "import seaborn as sns"
   ]
  },
  {
   "cell_type": "code",
   "execution_count": null,
   "id": "d94b109b",
   "metadata": {},
   "outputs": [],
   "source": [
    "lilla = \"#c8a2c8\"\n",
    "color_of_bar1 = \"#c8a2c8\"\n",
    "color_of_bar2 = \"#6495ED\"\n",
    "color_of_edge = \"#000000\""
   ]
  },
  {
   "cell_type": "code",
   "execution_count": null,
   "id": "8962802b",
   "metadata": {},
   "outputs": [],
   "source": [
    "matrix = np.array([[149030, 34],[7442, 12]])\n",
    "norm = matplotlib.colors.Normalize(matrix.min(), matrix.max())\n",
    "boundaries = [value for value in matrix.flatten().tolist()]\n",
    "list.sort(boundaries)\n",
    "colors = [[norm(boundaries[0]), \"#dcc4dc\"], \n",
    "          [norm(boundaries[1]), \"#c8a2c8\"], \n",
    "          [norm(boundaries[2]), \"#93779c\"], \n",
    "          [norm(boundaries[3]), \"#6c4675\"]]\n",
    "my_cmap = matplotlib.colors.LinearSegmentedColormap.from_list(\"\", colors)"
   ]
  },
  {
   "cell_type": "code",
   "execution_count": null,
   "id": "f1ea1130",
   "metadata": {},
   "outputs": [],
   "source": [
    "dataset_path = \"..\\\\..\\\\Dataset\\\\Original\\\\datasets.json\"\n",
    "plot_path = \".\\\\plot\\\\\"\n",
    "if os.path.exists(plot_path):\n",
    "    shutil.rmtree(plot_path)\n",
    "    os.mkdir(plot_path)\n",
    "else:\n",
    "    os.mkdir(plot_path)"
   ]
  },
  {
   "cell_type": "code",
   "execution_count": null,
   "id": "2ba7a2e7",
   "metadata": {},
   "outputs": [],
   "source": []
  },
  {
   "cell_type": "code",
   "execution_count": null,
   "id": "2b1f8543",
   "metadata": {},
   "outputs": [],
   "source": []
  },
  {
   "cell_type": "code",
   "execution_count": null,
   "id": "41e6a16d",
   "metadata": {},
   "outputs": [],
   "source": []
  },
  {
   "cell_type": "code",
   "execution_count": null,
   "id": "a8a153fd",
   "metadata": {},
   "outputs": [],
   "source": []
  }
 ],
 "metadata": {
  "kernelspec": {
   "display_name": "Python 3",
   "language": "python",
   "name": "python3"
  },
  "language_info": {
   "codemirror_mode": {
    "name": "ipython",
    "version": 3
   },
   "file_extension": ".py",
   "mimetype": "text/x-python",
   "name": "python",
   "nbconvert_exporter": "python",
   "pygments_lexer": "ipython3",
   "version": "3.8.8"
  }
 },
 "nbformat": 4,
 "nbformat_minor": 5
}
