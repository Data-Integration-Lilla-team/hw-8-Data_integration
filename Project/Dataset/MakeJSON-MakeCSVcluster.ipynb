{
 "cells": [
  {
   "cell_type": "code",
   "execution_count": 1,
   "id": "ec6321a1",
   "metadata": {},
   "outputs": [],
   "source": [
    "import os\n",
    "import pandas as pd\n",
    "import json\n",
    "import warnings\n",
    "import shutil\n",
    "warnings.filterwarnings('ignore')"
   ]
  },
  {
   "cell_type": "code",
   "execution_count": 2,
   "id": "fd013e5b",
   "metadata": {},
   "outputs": [],
   "source": [
    "def make_json(path_directory_datasets, path_dataset_json):\n",
    "\n",
    "    os.mkdir(os.path.dirname(path_dataset_json))\n",
    "\n",
    "    list_json_string = []\n",
    "    for dir_name in os.listdir(path_directory_datasets):\n",
    "\n",
    "        directory_group = os.path.join(path_directory_datasets, dir_name)\n",
    "\n",
    "        for file_name in os.listdir(directory_group):\n",
    "\n",
    "            file = os.path.join(directory_group, file_name)\n",
    "            dataset_name = os.path.splitext(file_name)[0]\n",
    "            file_extension = os.path.splitext(file_name)[1]\n",
    "\n",
    "            if file_extension == \".jsonl\":\n",
    "                df = pd.read_json(file, lines=True, encoding=\"utf-8\")\n",
    "            elif file_extension == \".json\":\n",
    "                df = pd.read_json(file, encoding=\"utf-8\")\n",
    "            elif file_extension == \".csv\":\n",
    "                df = pd.read_csv(file, encoding=\"latin-1\")\n",
    "            elif file_extension == \".xlsx\":\n",
    "                df = pd.read_excel(file, engine='openpyxl')\n",
    "            elif file_extension == \".xls\":\n",
    "                df = pd.read_excel(file)\n",
    "\n",
    "            obj = {\n",
    "                \"group_name\": dir_name,\n",
    "                \"dataset_name\": dataset_name,\n",
    "                \"dataset\": df.to_json(orient=\"index\")\n",
    "            }\n",
    "            json_object = json.dumps(obj, indent=4)\n",
    "            list_json_string.append(json_object)\n",
    "\n",
    "    with open(path_dataset_json, \"a\") as json_file:\n",
    "        json_file.write(\"[\")\n",
    "        for i in range(0, len(list_json_string) - 1):\n",
    "            json_file.write(list_json_string[i])\n",
    "            json_file.write(\",\")\n",
    "        json_file.write(list_json_string[len(list_json_string) - 1])\n",
    "        json_file.write(\"]\")\n",
    "        json_file.close()"
   ]
  },
  {
   "cell_type": "code",
   "execution_count": 3,
   "id": "a3b7824a",
   "metadata": {},
   "outputs": [],
   "source": [
    "def make_clusters(path_dataset_json, path_cluster):\n",
    "\n",
    "    os.mkdir(path_cluster)\n",
    "\n",
    "    with open(path_dataset_json, 'r', encoding='utf-8') as f:\n",
    "        json_object = json.loads(f.read())\n",
    "        f.close()\n",
    "\n",
    "    for dataset in json_object:\n",
    "        file_name = dataset[\"group_name\"]\n",
    "        cluster_name = dataset[\"dataset_name\"]\n",
    "        ds = dataset[\"dataset\"]\n",
    "\n",
    "        directory = os.path.join(path_cluster, cluster_name)\n",
    "        if not os.path.exists(directory):\n",
    "            os.mkdir(directory)\n",
    "\n",
    "        file = os.path.join(directory, file_name)\n",
    "        df = pd.read_json(ds, orient=\"index\", encoding=\"utf-8\")\n",
    "        df.to_csv(file+\".csv\", index=False)"
   ]
  },
  {
   "cell_type": "code",
   "execution_count": 4,
   "id": "ae0d3c26",
   "metadata": {},
   "outputs": [],
   "source": [
    "def main():\n",
    "    path_directory_datasets = \".\\\\Datasets\\\\\"\n",
    "    path_dataset_json = \".\\\\DatasetJSON\\\\\"\n",
    "    file_name_dataset_json = \"datasets.json\"\n",
    "    path_cluster = \".\\\\ClustersCSV\\\\\"\n",
    "\n",
    "    if os.path.exists(path_dataset_json):\n",
    "        shutil.rmtree(path_dataset_json)\n",
    "    if os.path.exists(path_cluster):\n",
    "        shutil.rmtree(path_cluster)\n",
    "        \n",
    "    make_json(path_directory_datasets, path_dataset_json + file_name_dataset_json)\n",
    "    make_clusters(path_dataset_json + file_name_dataset_json, path_cluster)"
   ]
  },
  {
   "cell_type": "code",
   "execution_count": 5,
   "id": "079641a3",
   "metadata": {},
   "outputs": [],
   "source": [
    "main()"
   ]
  },
  {
   "cell_type": "code",
   "execution_count": null,
   "id": "b8657f31",
   "metadata": {},
   "outputs": [],
   "source": []
  }
 ],
 "metadata": {
  "kernelspec": {
   "display_name": "Python 3",
   "language": "python",
   "name": "python3"
  },
  "language_info": {
   "codemirror_mode": {
    "name": "ipython",
    "version": 3
   },
   "file_extension": ".py",
   "mimetype": "text/x-python",
   "name": "python",
   "nbconvert_exporter": "python",
   "pygments_lexer": "ipython3",
   "version": "3.8.8"
  }
 },
 "nbformat": 4,
 "nbformat_minor": 5
}
