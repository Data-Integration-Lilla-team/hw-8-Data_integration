{
 "cells": [
  {
   "cell_type": "markdown",
   "id": "048b47ee",
   "metadata": {},
   "source": [
    "# Funzioni d'utilità"
   ]
  },
  {
   "cell_type": "code",
   "execution_count": null,
   "id": "5a5028a7",
   "metadata": {},
   "outputs": [],
   "source": [
    "import os\n",
    "import shutil\n",
    "import json\n",
    "import time\n",
    "import warnings\n",
    "warnings.filterwarnings('ignore')"
   ]
  },
  {
   "cell_type": "code",
   "execution_count": null,
   "id": "aa224cb8",
   "metadata": {},
   "outputs": [],
   "source": [
    "def remove_and_make_dir(path):\n",
    "    if os.path.exists(path):\n",
    "        shutil.rmtree(path)\n",
    "        os.mkdir(path)\n",
    "    else:\n",
    "        os.mkdir(path)"
   ]
  },
  {
   "cell_type": "code",
   "execution_count": null,
   "id": "aa022236",
   "metadata": {},
   "outputs": [],
   "source": [
    "def reformat_json(path):\n",
    "    with open(path, \"wr\") as f:\n",
    "        tmp = json.loads(f.read())\n",
    "        json_obj = json.dumps(tmp, indent=4)\n",
    "        f.write(json_obj)\n",
    "        f.close()"
   ]
  },
  {
   "cell_type": "markdown",
   "id": "bef97274",
   "metadata": {},
   "source": [
    "# Schemi mediati cluster"
   ]
  },
  {
   "cell_type": "code",
   "execution_count": null,
   "id": "448370b3",
   "metadata": {},
   "outputs": [],
   "source": [
    "from task_1 import make_cluster_columns_cluster\n",
    "from task_2 import schema_cluster\n",
    "from task_4 import make_schema_cluster"
   ]
  },
  {
   "cell_type": "code",
   "execution_count": null,
   "id": "31b55c6c",
   "metadata": {},
   "outputs": [],
   "source": [
    "clusters_datasets_base_path = \"..\\\\..\\\\Dataset\\\\ClusterParsed\\\\\"\n",
    "clusters_info_path = \"..\\\\DatasetSchemaMatch\\\\\"\n",
    "clusters_filename_synonym = \"dic_pre_val.txt\"\n",
    "\n",
    "clusters = \".\\\\clusters\\\\\"\n",
    "clusters_columns = \".\\\\clusters\\\\columns\\\\\"\n",
    "clusters_dictionary = \".\\\\clusters\\\\dictionary\\\\\"\n",
    "clusters_final_dictionary = \".\\\\clusters\\\\final_dictionary\\\\\"\n",
    "clusters_schema = \".\\\\clusters\\\\schema\\\\\""
   ]
  },
  {
   "cell_type": "code",
   "execution_count": null,
   "id": "e31a120d",
   "metadata": {},
   "outputs": [],
   "source": [
    "#remove_and_make_dir(clusters)"
   ]
  },
  {
   "cell_type": "markdown",
   "id": "d6e568e5",
   "metadata": {},
   "source": [
    "### TASK 1"
   ]
  },
  {
   "cell_type": "code",
   "execution_count": null,
   "id": "ba15406d",
   "metadata": {},
   "outputs": [],
   "source": [
    "print(\"\\nMake cluster columns\\n\")\n",
    "remove_and_make_dir(clusters_columns)\n",
    "make_cluster_columns_cluster(clusters_datasets_base_path, clusters_info_path, clusters_filename_synonym, clusters_columns)"
   ]
  },
  {
   "cell_type": "markdown",
   "id": "8c05d77a",
   "metadata": {},
   "source": [
    "### TASK 2"
   ]
  },
  {
   "cell_type": "code",
   "execution_count": null,
   "id": "44a8aa02",
   "metadata": {},
   "outputs": [],
   "source": [
    "print(\"\\nExtract schema\\n\")\n",
    "remove_and_make_dir(clusters_dictionary)\n",
    "start = time.time()\n",
    "schema_cluster(clusters_columns, clusters_dictionary, 0.1, \".txt\")\n",
    "end = time.time()\n",
    "print(\"\\nTempo di esecuzione: \"+str(end-start)+\" (s)\"+\"\\n\")"
   ]
  },
  {
   "cell_type": "markdown",
   "id": "7ae819e8",
   "metadata": {},
   "source": [
    "### TASK 4"
   ]
  },
  {
   "cell_type": "code",
   "execution_count": null,
   "id": "79290d21",
   "metadata": {},
   "outputs": [],
   "source": [
    "print(\"\\nMake schemas\\n\")\n",
    "remove_and_make_dir(clusters_schema)\n",
    "make_schema_cluster(clusters_datasets_base_path, clusters_final_dictionary, clusters_schema, \".txt\")"
   ]
  },
  {
   "cell_type": "markdown",
   "id": "2b256dd2",
   "metadata": {},
   "source": [
    "# Schema mediato finale"
   ]
  },
  {
   "cell_type": "code",
   "execution_count": null,
   "id": "e8242fc7",
   "metadata": {},
   "outputs": [],
   "source": [
    "from task_1 import make_cluster_columns_final\n",
    "from task_2 import schema_final\n",
    "from task_4 import make_schema_final"
   ]
  },
  {
   "cell_type": "code",
   "execution_count": null,
   "id": "572c228f",
   "metadata": {},
   "outputs": [],
   "source": [
    "final_datasets_base_path = \".\\\\clusters\\\\schema\\\\\"\n",
    "final_info_path = \".\\\\files_matching\\\\files_vari\"\n",
    "final_filename_synonym = \"dic_pre_val.txt\"\n",
    "\n",
    "final_schema = \".\\\\final_schema\\\\\"\n",
    "final_schema_columns = \".\\\\final_schema\\\\columns\\\\\"\n",
    "final_schema_dictionary = \".\\\\final_schema\\\\dictionary\\\\\"\n",
    "final_schema_final_dictionary = \".\\\\final_schema\\\\final_dictionary\\\\\"\n",
    "final_schema_schema = \".\\\\final_schema\\\\schema\\\\\""
   ]
  },
  {
   "cell_type": "code",
   "execution_count": null,
   "id": "179271aa",
   "metadata": {},
   "outputs": [],
   "source": [
    "remove_and_make_dir(final_schema)"
   ]
  },
  {
   "cell_type": "markdown",
   "id": "f69ba174",
   "metadata": {},
   "source": [
    "### TASK 1"
   ]
  },
  {
   "cell_type": "code",
   "execution_count": null,
   "id": "4eabf203",
   "metadata": {},
   "outputs": [],
   "source": [
    "print(\"\\nMake cluster columns\\n\")\n",
    "remove_and_make_dir(final_schema_columns)\n",
    "make_cluster_columns_final(final_datasets_base_path, final_info_path, final_filename_synonym, final_schema_columns)"
   ]
  },
  {
   "cell_type": "markdown",
   "id": "67fda844",
   "metadata": {},
   "source": [
    "### TASK 2"
   ]
  },
  {
   "cell_type": "code",
   "execution_count": null,
   "id": "ba9e48be",
   "metadata": {},
   "outputs": [],
   "source": [
    "print(\"\\nExtract schema\\n\")SS\n",
    "remove_and_make_dir(final_schema_dictionary)\n",
    "schema_final(final_schema_columns, final_schema_dictionary, 0.1, \".txt\")"
   ]
  },
  {
   "cell_type": "markdown",
   "id": "e9f6c754",
   "metadata": {},
   "source": [
    "### TASK 4"
   ]
  },
  {
   "cell_type": "code",
   "execution_count": null,
   "id": "1aa62793",
   "metadata": {},
   "outputs": [],
   "source": [
    "print(\"\\nMake schema\\n\")\n",
    "remove_and_make_dir(final_schema_schema)\n",
    "make_schema_final(final_datasets_base_path, final_schema_final_dictionary, final_schema_schema, \".json\")"
   ]
  },
  {
   "cell_type": "code",
   "execution_count": null,
   "id": "16f2b4f9",
   "metadata": {},
   "outputs": [],
   "source": []
  }
 ],
 "metadata": {
  "kernelspec": {
   "display_name": "Python 3",
   "language": "python",
   "name": "python3"
  },
  "language_info": {
   "codemirror_mode": {
    "name": "ipython",
    "version": 3
   },
   "file_extension": ".py",
   "mimetype": "text/x-python",
   "name": "python",
   "nbconvert_exporter": "python",
   "pygments_lexer": "ipython3",
   "version": "3.8.8"
  }
 },
 "nbformat": 4,
 "nbformat_minor": 5
}
