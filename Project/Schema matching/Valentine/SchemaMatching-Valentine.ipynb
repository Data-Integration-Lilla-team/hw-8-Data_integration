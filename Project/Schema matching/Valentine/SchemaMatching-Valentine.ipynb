{
 "cells": [
  {
   "cell_type": "code",
   "execution_count": 4,
   "id": "61078404",
   "metadata": {},
   "outputs": [],
   "source": [
    "import os\n",
    "import pandas as pd\n",
    "from valentine import valentine_match\n",
    "from valentine.algorithms import Coma, Cupid, DistributionBased, JaccardLevenMatcher, SimilarityFlooding\n",
    "import pprint"
   ]
  },
  {
   "cell_type": "code",
   "execution_count": null,
   "id": "7bfeb401",
   "metadata": {},
   "outputs": [],
   "source": [
    "dataset_base_path = \"..\\\\..\\\\Dataset\\\\Cluster\""
   ]
  },
  {
   "cell_type": "code",
   "execution_count": 5,
   "id": "73d2bd21",
   "metadata": {},
   "outputs": [],
   "source": [
    "d1_path = os.path.join('data', 'ft1.csv')\n",
    "d2_path = os.path.join('data', 'ft2.csv')\n",
    "df1 = pd.read_csv(d1_path)\n",
    "df2 = pd.read_csv(d2_path)\n",
    "pp = pprint.PrettyPrinter(indent=4)"
   ]
  },
  {
   "cell_type": "code",
   "execution_count": 6,
   "id": "22c48ce5",
   "metadata": {},
   "outputs": [
    {
     "name": "stdout",
     "output_type": "stream",
     "text": [
      "Found the following matches:\n",
      "{   (('table_1', 'country'), ('table_2', 'country')): 1.0,\n",
      "    (('table_1', 'country'), ('table_2', 'sector')): 0.8400000000000001,\n",
      "    (('table_1', 'employees_2017'), ('table_2', 'number_of_employees_2017')): 0.8261728395061729,\n",
      "    (('table_1', 'employees_2017'), ('table_2', 'number_of_employees_2020')): 0.7817283950617284,\n",
      "    (('table_1', 'employees_2020'), ('table_2', 'number_of_employees_2017')): 0.7817283950617284,\n",
      "    (('table_1', 'employees_2020'), ('table_2', 'number_of_employees_2020')): 0.8261728395061729,\n",
      "    (('table_1', 'founding_year'), ('table_2', 'founding_year')): 1.0,\n",
      "    (('table_1', 'founding_year'), ('table_2', 'name')): 0.8162962962962963,\n",
      "    (('table_1', 'name'), ('table_2', 'founding_year')): 0.8162962962962963,\n",
      "    (('table_1', 'name'), ('table_2', 'name')): 1.0,\n",
      "    (('table_1', 'name'), ('table_2', 'number_of_employees_2017')): 0.7391941391941392,\n",
      "    (('table_1', 'name'), ('table_2', 'number_of_employees_2020')): 0.7391941391941392,\n",
      "    (('table_1', 'revenue_2017'), ('table_2', 'revenue_2017_euro')): 0.8306878306878307,\n",
      "    (('table_1', 'revenue_2017'), ('table_2', 'revenue_2020_euro')): 0.7862433862433864,\n",
      "    (('table_1', 'revenue_2020'), ('table_2', 'revenue_2017_euro')): 0.7862433862433864,\n",
      "    (('table_1', 'revenue_2020'), ('table_2', 'revenue_2020_euro')): 0.8306878306878307,\n",
      "    (('table_1', 'sector'), ('table_2', 'country')): 0.8400000000000001,\n",
      "    (('table_1', 'sector'), ('table_2', 'sector')): 1.0}\n"
     ]
    }
   ],
   "source": [
    "matcher = Cupid()\n",
    "matches = valentine_match(df1, df2, matcher)\n",
    "print(\"Found the following matches:\")\n",
    "pp.pprint(matches)"
   ]
  },
  {
   "cell_type": "code",
   "execution_count": null,
   "id": "e0e389d9",
   "metadata": {},
   "outputs": [],
   "source": [
    "matcher = Coma(strategy=\"COMA_OPT\")\n",
    "matches = valentine_match(df1, df2, matcher)\n",
    "print(\"Found the following matches:\")\n",
    "pp.pprint(matches)"
   ]
  },
  {
   "cell_type": "code",
   "execution_count": null,
   "id": "03fa9a53",
   "metadata": {},
   "outputs": [],
   "source": [
    "matcher = DistributionBased()\n",
    "matches = valentine_match(df1, df2, matcher)\n",
    "print(\"Found the following matches:\")\n",
    "pp.pprint(matches)"
   ]
  },
  {
   "cell_type": "code",
   "execution_count": null,
   "id": "166a5d0d",
   "metadata": {},
   "outputs": [],
   "source": [
    "matcher = JaccardLevenMatcher()\n",
    "matches = valentine_match(df1, df2, matcher)\n",
    "print(\"Found the following matches:\")\n",
    "pp.pprint(matches)"
   ]
  },
  {
   "cell_type": "code",
   "execution_count": null,
   "id": "a7e74ff2",
   "metadata": {},
   "outputs": [],
   "source": [
    "matcher = SimilarityFlooding()\n",
    "matches = valentine_match(df1, df2, matcher)\n",
    "print(\"Found the following matches:\")\n",
    "pp.pprint(matches)"
   ]
  }
 ],
 "metadata": {
  "kernelspec": {
   "display_name": "Python 3",
   "language": "python",
   "name": "python3"
  },
  "language_info": {
   "codemirror_mode": {
    "name": "ipython",
    "version": 3
   },
   "file_extension": ".py",
   "mimetype": "text/x-python",
   "name": "python",
   "nbconvert_exporter": "python",
   "pygments_lexer": "ipython3",
   "version": "3.8.8"
  }
 },
 "nbformat": 4,
 "nbformat_minor": 5
}
