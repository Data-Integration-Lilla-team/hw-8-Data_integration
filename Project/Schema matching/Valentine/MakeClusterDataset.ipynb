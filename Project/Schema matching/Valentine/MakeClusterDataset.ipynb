{
 "cells": [
  {
   "cell_type": "code",
   "execution_count": 1,
   "id": "0db68c44",
   "metadata": {},
   "outputs": [],
   "source": [
    "import warnings\n",
    "warnings.filterwarnings('ignore')\n",
    "import os\n",
    "import pandas as pd\n",
    "import json\n",
    "import shutil"
   ]
  },
  {
   "cell_type": "code",
   "execution_count": 2,
   "id": "c4283504",
   "metadata": {},
   "outputs": [],
   "source": [
    "def remove_and_make_dir(path):\n",
    "    if os.path.exists(path):\n",
    "        shutil.rmtree(path)\n",
    "        os.mkdir(path)\n",
    "    else:\n",
    "        os.mkdir(path)"
   ]
  },
  {
   "cell_type": "code",
   "execution_count": 10,
   "id": "ca646dd3",
   "metadata": {},
   "outputs": [],
   "source": [
    "datasets_base_path = \"..\\\\..\\\\Dataset\\\\ClusterParsed\\\\\"\n",
    "synonyms_path = \".\\\\synonyms\\\\\""
   ]
  },
  {
   "cell_type": "code",
   "execution_count": null,
   "id": "8bc28333",
   "metadata": {},
   "outputs": [],
   "source": [
    "cluster_info = {}\n",
    "\n",
    "for cluster_folder_name in os.listdir(datasets_base_path):\n",
    "    \n",
    "    cluster_info[cluster_folder_name] = {}\n",
    "    \n",
    "    cluster_path = os.path.join(datasets_base_path, cluster_folder_name)\n",
    "    cluster_info[cluster_folder_name] = {}\n",
    "    \n",
    "    for filename in os.listdir(cluster_path):\n",
    "        dataset_path = os.path.join(cluster_path, filename)\n",
    "        cluster_info[cluster_folder_name][os.path.splitext(filename)[0]] = dataset_path\n",
    "        "
   ]
  },
  {
   "cell_type": "code",
   "execution_count": null,
   "id": "4774419f",
   "metadata": {},
   "outputs": [],
   "source": [
    "# read synonyms\n",
    "cluster_synonyms = {}\n",
    "for filename in os.listdir(synonyms_path):\n",
    "    file_path = os.path.join(synonyms_path, filename)\n",
    "    cluster = os.path.splitext(filename)[0]\n",
    "    file = open(file_path)\n",
    "    cluster_synonyms[cluster] = json.load(file)\n",
    "    file.close()"
   ]
  },
  {
   "cell_type": "code",
   "execution_count": null,
   "id": "430ec78f",
   "metadata": {},
   "outputs": [],
   "source": [
    "cluster_schema = {}\n",
    "for cluster, synonyms in cluster_synonyms.items():\n",
    "    \n",
    "    cluster_schema[cluster] = {}\n",
    "    print(\"Cluster: \", cluster, \"\\n\\n\")\n",
    "    \n",
    "    for synonym in synonyms:\n",
    "        \n",
    "        print(synonym, \"\\n\")\n",
    "        r = input(\"Scegliere nome per schema mediato: \")\n",
    "        print(\"\\n\")\n",
    "        cluster_schema[cluster][r] = synonym\n",
    "        "
   ]
  },
  {
   "cell_type": "code",
   "execution_count": null,
   "id": "1714a751",
   "metadata": {},
   "outputs": [],
   "source": [
    "for cluster, schema in cluster_schema.items():\n",
    "    columns_of_schema = schema.keys()\n",
    "    df_schema = pd.DataFrame(columns=list(columns_of_schema))\n",
    "    for column_name_schema, columns in schema.items():\n",
    "        for column in columns:\n",
    "            tmp = column.split(\"-\")\n",
    "            group_name = tmp[0] + \"-\" + tmp[1]\n",
    "            path = cluster_info[cluster][group_name]\n",
    "            df = read_csv(path)\n",
    "            "
   ]
  },
  {
   "cell_type": "code",
   "execution_count": 15,
   "id": "0dd2b076",
   "metadata": {},
   "outputs": [],
   "source": []
  },
  {
   "cell_type": "code",
   "execution_count": 16,
   "id": "6cf3ed53",
   "metadata": {},
   "outputs": [
    {
     "data": {
      "text/plain": [
       "{'ambitiobox': {'06-MarScoToc': '..\\\\..\\\\Dataset\\\\ClusterParsed\\\\ambitiobox\\\\06-MarScoToc.csv'},\n",
       " 'ariregister': {'09-wissel': '..\\\\..\\\\Dataset\\\\ClusterParsed\\\\ariregister\\\\09-wissel.csv'},\n",
       " 'cbinsights': {'01-DDD': '..\\\\..\\\\Dataset\\\\ClusterParsed\\\\cbinsights\\\\01-DDD.csv',\n",
       "  '04-iGMM': '..\\\\..\\\\Dataset\\\\ClusterParsed\\\\cbinsights\\\\04-iGMM.csv'},\n",
       " 'companiesmarketcap': {'00-avengers': '..\\\\..\\\\Dataset\\\\ClusterParsed\\\\companiesmarketcap\\\\00-avengers.csv',\n",
       "  '01-DDD': '..\\\\..\\\\Dataset\\\\ClusterParsed\\\\companiesmarketcap\\\\01-DDD.csv',\n",
       "  '02-GioPonSpiz': '..\\\\..\\\\Dataset\\\\ClusterParsed\\\\companiesmarketcap\\\\02-GioPonSpiz.csv',\n",
       "  '03-gren': '..\\\\..\\\\Dataset\\\\ClusterParsed\\\\companiesmarketcap\\\\03-gren.csv',\n",
       "  '04-iGMM': '..\\\\..\\\\Dataset\\\\ClusterParsed\\\\companiesmarketcap\\\\04-iGMM.csv',\n",
       "  '05-MalPatSaj': '..\\\\..\\\\Dataset\\\\ClusterParsed\\\\companiesmarketcap\\\\05-MalPatSaj.csv',\n",
       "  '06-MarScoToc': '..\\\\..\\\\Dataset\\\\ClusterParsed\\\\companiesmarketcap\\\\06-MarScoToc.csv',\n",
       "  '09-wissel': '..\\\\..\\\\Dataset\\\\ClusterParsed\\\\companiesmarketcap\\\\09-wissel.csv'},\n",
       " 'disfold': {'00-avengers': '..\\\\..\\\\Dataset\\\\ClusterParsed\\\\disfold\\\\00-avengers.csv',\n",
       "  '02-GioPonSpiz': '..\\\\..\\\\Dataset\\\\ClusterParsed\\\\disfold\\\\02-GioPonSpiz.csv',\n",
       "  '03-gren': '..\\\\..\\\\Dataset\\\\ClusterParsed\\\\disfold\\\\03-gren.csv',\n",
       "  '04-iGMM': '..\\\\..\\\\Dataset\\\\ClusterParsed\\\\disfold\\\\04-iGMM.csv',\n",
       "  '05-MalPatSaj': '..\\\\..\\\\Dataset\\\\ClusterParsed\\\\disfold\\\\05-MalPatSaj.csv',\n",
       "  '06-MarScoToc': '..\\\\..\\\\Dataset\\\\ClusterParsed\\\\disfold\\\\06-MarScoToc.csv',\n",
       "  '07-silvestri': '..\\\\..\\\\Dataset\\\\ClusterParsed\\\\disfold\\\\07-silvestri.csv',\n",
       "  '08-slytherin': '..\\\\..\\\\Dataset\\\\ClusterParsed\\\\disfold\\\\08-slytherin.csv',\n",
       "  '10-DeBiGa': '..\\\\..\\\\Dataset\\\\ClusterParsed\\\\disfold\\\\10-DeBiGa.csv'},\n",
       " 'forbes': {'05-MalPatSaj': '..\\\\..\\\\Dataset\\\\ClusterParsed\\\\forbes\\\\05-MalPatSaj.csv',\n",
       "  '07-silvestri': '..\\\\..\\\\Dataset\\\\ClusterParsed\\\\forbes\\\\07-silvestri.csv',\n",
       "  '08-slytherin': '..\\\\..\\\\Dataset\\\\ClusterParsed\\\\forbes\\\\08-slytherin.csv'},\n",
       " 'ft': {'01-DDD': '..\\\\..\\\\Dataset\\\\ClusterParsed\\\\ft\\\\01-DDD.csv',\n",
       "  '03-gren': '..\\\\..\\\\Dataset\\\\ClusterParsed\\\\ft\\\\03-gren.csv',\n",
       "  '07-silvestri': '..\\\\..\\\\Dataset\\\\ClusterParsed\\\\ft\\\\07-silvestri.csv',\n",
       "  '08-slytherin': '..\\\\..\\\\Dataset\\\\ClusterParsed\\\\ft\\\\08-slytherin.csv'},\n",
       " 'globaldata': {'10-DeBiGa': '..\\\\..\\\\Dataset\\\\ClusterParsed\\\\globaldata\\\\10-DeBiGa.csv'},\n",
       " 'govuk': {'09-wissel': '..\\\\..\\\\Dataset\\\\ClusterParsed\\\\govuk\\\\09-wissel.csv',\n",
       "  '10-DeBiGa': '..\\\\..\\\\Dataset\\\\ClusterParsed\\\\govuk\\\\10-DeBiGa.csv'},\n",
       " 'hithorizons': {'00-avengers': '..\\\\..\\\\Dataset\\\\ClusterParsed\\\\hithorizons\\\\00-avengers.csv'},\n",
       " 'infoclipper': {'09-wissel': '..\\\\..\\\\Dataset\\\\ClusterParsed\\\\infoclipper\\\\09-wissel.csv'},\n",
       " 'teamblind': {'01-DDD': '..\\\\..\\\\Dataset\\\\ClusterParsed\\\\teamblind\\\\01-DDD.csv'},\n",
       " 'valuetoday': {'00-avengers': '..\\\\..\\\\Dataset\\\\ClusterParsed\\\\valuetoday\\\\00-avengers.csv',\n",
       "  '02-GioPonSpiz': '..\\\\..\\\\Dataset\\\\ClusterParsed\\\\valuetoday\\\\02-GioPonSpiz.csv',\n",
       "  '03-gren': '..\\\\..\\\\Dataset\\\\ClusterParsed\\\\valuetoday\\\\03-gren.csv',\n",
       "  '04-iGMM': '..\\\\..\\\\Dataset\\\\ClusterParsed\\\\valuetoday\\\\04-iGMM.csv',\n",
       "  '07-silvestri': '..\\\\..\\\\Dataset\\\\ClusterParsed\\\\valuetoday\\\\07-silvestri.csv',\n",
       "  '08-slytherin': '..\\\\..\\\\Dataset\\\\ClusterParsed\\\\valuetoday\\\\08-slytherin.csv'},\n",
       " 'wikipedia': {'02-GioPonSpiz': '..\\\\..\\\\Dataset\\\\ClusterParsed\\\\wikipedia\\\\02-GioPonSpiz.csv',\n",
       "  '05-MalPatSaj': '..\\\\..\\\\Dataset\\\\ClusterParsed\\\\wikipedia\\\\05-MalPatSaj.csv',\n",
       "  '06-MarScoToc': '..\\\\..\\\\Dataset\\\\ClusterParsed\\\\wikipedia\\\\06-MarScoToc.csv',\n",
       "  '10-DeBiGa': '..\\\\..\\\\Dataset\\\\ClusterParsed\\\\wikipedia\\\\10-DeBiGa.csv'}}"
      ]
     },
     "execution_count": 16,
     "metadata": {},
     "output_type": "execute_result"
    }
   ],
   "source": [
    "cluster_info"
   ]
  },
  {
   "cell_type": "code",
   "execution_count": null,
   "id": "11661019",
   "metadata": {},
   "outputs": [],
   "source": []
  }
 ],
 "metadata": {
  "kernelspec": {
   "display_name": "Python 3",
   "language": "python",
   "name": "python3"
  },
  "language_info": {
   "codemirror_mode": {
    "name": "ipython",
    "version": 3
   },
   "file_extension": ".py",
   "mimetype": "text/x-python",
   "name": "python",
   "nbconvert_exporter": "python",
   "pygments_lexer": "ipython3",
   "version": "3.8.8"
  }
 },
 "nbformat": 4,
 "nbformat_minor": 5
}
