{
 "cells": [
  {
   "cell_type": "markdown",
   "id": "3188d371",
   "metadata": {},
   "source": [
    "# Creazione schema mediato per ogni cluster"
   ]
  },
  {
   "cell_type": "code",
   "execution_count": null,
   "id": "e8c66e0c",
   "metadata": {},
   "outputs": [],
   "source": [
    "import warnings\n",
    "warnings.filterwarnings('ignore')\n",
    "import os\n",
    "import pandas as pd\n",
    "import json\n",
    "import shutil"
   ]
  },
  {
   "cell_type": "code",
   "execution_count": null,
   "id": "c4283504",
   "metadata": {},
   "outputs": [],
   "source": [
    "def remove_and_make_dir(path):\n",
    "    if os.path.exists(path):\n",
    "        shutil.rmtree(path)\n",
    "        os.mkdir(path)\n",
    "    else:\n",
    "        os.mkdir(path)"
   ]
  },
  {
   "cell_type": "code",
   "execution_count": null,
   "id": "ca646dd3",
   "metadata": {},
   "outputs": [],
   "source": [
    "datasets_base_path = \"..\\\\..\\\\Dataset\\\\ClusterParsed\\\\\"\n",
    "synonyms_path = \".\\\\synonyms\\\\\"\n",
    "schema_path = \".\\\\schema\\\\\""
   ]
  },
  {
   "cell_type": "code",
   "execution_count": null,
   "id": "06086e24",
   "metadata": {},
   "outputs": [],
   "source": [
    "remove_and_make_dir(schema_path)"
   ]
  },
  {
   "cell_type": "code",
   "execution_count": null,
   "id": "8bc28333",
   "metadata": {},
   "outputs": [],
   "source": [
    "cluster_info = {}\n",
    "for cluster_folder_name in os.listdir(datasets_base_path):\n",
    "    cluster_path = os.path.join(datasets_base_path, cluster_folder_name)\n",
    "    if len(os.listdir(cluster_path)) > 1:\n",
    "        cluster_info[cluster_folder_name] = {}\n",
    "        for filename in os.listdir(cluster_path):\n",
    "            dataset_path = os.path.join(cluster_path, filename)\n",
    "            cluster_info[cluster_folder_name][os.path.splitext(filename)[0]] = dataset_path"
   ]
  },
  {
   "cell_type": "code",
   "execution_count": null,
   "id": "4774419f",
   "metadata": {},
   "outputs": [],
   "source": [
    "cluster_synonyms = {}\n",
    "for filename in os.listdir(synonyms_path):\n",
    "    file_path = os.path.join(synonyms_path, filename)\n",
    "    cluster = os.path.splitext(filename)[0]\n",
    "    file = open(file_path)\n",
    "    cluster_synonyms[cluster] = json.load(file)\n",
    "    file.close()"
   ]
  },
  {
   "cell_type": "code",
   "execution_count": null,
   "id": "7dd8e172",
   "metadata": {},
   "outputs": [],
   "source": [
    "cluster_inverted_synonym_index = {}\n",
    "for cluster, synonyms in cluster_synonyms.items():\n",
    "    cluster_inverted_synonym_index[cluster] = {}\n",
    "    for main_token, tokens in synonyms.items():\n",
    "        for token in tokens:\n",
    "            tmp = token.split(\"-\")\n",
    "            cluster_inverted_synonym_index[cluster][tmp[2]] = main_token"
   ]
  },
  {
   "cell_type": "code",
   "execution_count": null,
   "id": "3eb34dbf",
   "metadata": {},
   "outputs": [],
   "source": [
    "cluster_schema = {cluster: synonyms.keys() for cluster, synonyms in cluster_synonyms.items()}"
   ]
  },
  {
   "cell_type": "code",
   "execution_count": null,
   "id": "8fde2c87",
   "metadata": {},
   "outputs": [],
   "source": [
    "cluster_group_match_column = {}\n",
    "for cluster, groups in cluster_info.items():\n",
    "    cluster_group_match_column[cluster] = {}\n",
    "    for group, path in groups.items():\n",
    "        cluster_group_match_column[cluster][path] = {}\n",
    "        df = pd.read_csv(path)\n",
    "        columns = list(df.columns)\n",
    "        for column in columns:\n",
    "            if column in cluster_inverted_synonym_index[cluster].keys():\n",
    "                cluster_group_match_column[cluster][path][column] = cluster_inverted_synonym_index[cluster][column]"
   ]
  },
  {
   "cell_type": "code",
   "execution_count": null,
   "id": "efc60b93",
   "metadata": {},
   "outputs": [],
   "source": [
    "for cluster, paths in cluster_group_match_column.items():\n",
    "    df = pd.DataFrame(columns=cluster_schema[cluster])\n",
    "    for path, column_rename in paths.items():\n",
    "        df_tmp = pd.read_csv(path)\n",
    "        df_tmp = df_tmp.rename(columns=column_rename)\n",
    "        df_tmp = df_tmp[df_tmp.columns.intersection(column_rename.keys())]\n",
    "        df = pd.concat([df, df_tmp], ignore_index=True)\n",
    "    df.to_csv(schema_path+cluster+\".csv\", index=False)"
   ]
  },
  {
   "cell_type": "code",
   "execution_count": null,
   "id": "b4e49094",
   "metadata": {},
   "outputs": [],
   "source": []
  }
 ],
 "metadata": {
  "kernelspec": {
   "display_name": "Python 3",
   "language": "python",
   "name": "python3"
  },
  "language_info": {
   "codemirror_mode": {
    "name": "ipython",
    "version": 3
   },
   "file_extension": ".py",
   "mimetype": "text/x-python",
   "name": "python",
   "nbconvert_exporter": "python",
   "pygments_lexer": "ipython3",
   "version": "3.8.8"
  }
 },
 "nbformat": 4,
 "nbformat_minor": 5
}
