{
 "cells": [
  {
   "cell_type": "markdown",
   "id": "0481d833",
   "metadata": {},
   "source": [
    "# Creazione dizionario dei sinonimi"
   ]
  },
  {
   "cell_type": "code",
   "execution_count": null,
   "id": "681c3df2",
   "metadata": {},
   "outputs": [],
   "source": [
    "import warnings\n",
    "warnings.filterwarnings('ignore')\n",
    "import os\n",
    "import pandas as pd\n",
    "import json\n",
    "import shutil"
   ]
  },
  {
   "cell_type": "code",
   "execution_count": null,
   "id": "2cb387ad",
   "metadata": {},
   "outputs": [],
   "source": [
    "def remove_and_make_dir(path):\n",
    "    if os.path.exists(path):\n",
    "        shutil.rmtree(path)\n",
    "        os.mkdir(path)\n",
    "    else:\n",
    "        os.mkdir(path)"
   ]
  },
  {
   "cell_type": "code",
   "execution_count": null,
   "id": "2b544d56",
   "metadata": {},
   "outputs": [],
   "source": [
    "datasets_base_path = \"..\\\\..\\\\Dataset\\\\Clusters_CSV\\\\original\\\\\"\n",
    "dictionary_path = \".\\\\dictionary\\\\\"\n",
    "synonyms_path = \".\\\\synonyms\\\\\""
   ]
  },
  {
   "cell_type": "code",
   "execution_count": null,
   "id": "1700bed6",
   "metadata": {},
   "outputs": [],
   "source": [
    "remove_and_make_dir(synonyms_path)"
   ]
  },
  {
   "cell_type": "code",
   "execution_count": null,
   "id": "70bfdf2a",
   "metadata": {},
   "outputs": [],
   "source": [
    "cluster_dict = {}\n",
    "for filename in os.listdir(dictionary_path):\n",
    "    file_path = os.path.join(dictionary_path, filename)\n",
    "    cluster = os.path.splitext(filename)[0]\n",
    "    file = open(file_path)\n",
    "    cluster_dict[cluster] = json.load(file)\n",
    "    file.close()"
   ]
  },
  {
   "cell_type": "code",
   "execution_count": null,
   "id": "92308432",
   "metadata": {},
   "outputs": [],
   "source": [
    "threshold = 0.0\n",
    "inverted_index_cluster = {}\n",
    "for cluster, inverted_index in cluster_dict.items():\n",
    "    inverted_index_cluster[cluster] = {}\n",
    "    for main_token, tokens in inverted_index.items():\n",
    "        inverted_index_cluster[cluster][main_token] = [k for k,v in tokens.items() if v > threshold]"
   ]
  },
  {
   "cell_type": "code",
   "execution_count": null,
   "id": "38f50430",
   "metadata": {},
   "outputs": [],
   "source": [
    "cluster_synonyms = {}\n",
    "for cluster, inverted_index in inverted_index_cluster.items():\n",
    "    tmp = []\n",
    "    for main_token, tokens in inverted_index.items():\n",
    "        synonyms = set()\n",
    "        synonyms.add(main_token)\n",
    "        synonyms.update(tokens)\n",
    "        for token in tokens:\n",
    "            synonyms.update(inverted_index[token])\n",
    "        tmp.append(synonyms)\n",
    "    cluster_synonyms[cluster] = []\n",
    "    for item in tmp:\n",
    "        if item not in cluster_synonyms[cluster]:\n",
    "            cluster_synonyms[cluster].append(item)\n",
    "    cluster_synonyms[cluster] = [list(item) for item in cluster_synonyms[cluster]]"
   ]
  },
  {
   "cell_type": "code",
   "execution_count": null,
   "id": "0e3f7b08",
   "metadata": {},
   "outputs": [],
   "source": [
    "# save synonyms\n",
    "for cluster, synonyms in cluster_synonyms.items():\n",
    "    json_obj = json.dumps(synonyms, indent=4) \n",
    "    f = open(synonyms_path+cluster+\".txt\",\"w\")\n",
    "    f.write(json_obj)\n",
    "    f.close()    "
   ]
  },
  {
   "cell_type": "code",
   "execution_count": null,
   "id": "db5edf85",
   "metadata": {},
   "outputs": [],
   "source": [
    "# read synonyms\n",
    "cluster_synonyms = {}\n",
    "for filename in os.listdir(synonyms_path):\n",
    "    file_path = os.path.join(synonyms_path, filename)\n",
    "    cluster = os.path.splitext(filename)[0]\n",
    "    file = open(file_path)\n",
    "    cluster_synonyms[cluster] = json.load(file)\n",
    "    file.close()"
   ]
  },
  {
   "cell_type": "code",
   "execution_count": null,
   "id": "124420c4",
   "metadata": {},
   "outputs": [],
   "source": []
  }
 ],
 "metadata": {
  "kernelspec": {
   "display_name": "Python 3",
   "language": "python",
   "name": "python3"
  },
  "language_info": {
   "codemirror_mode": {
    "name": "ipython",
    "version": 3
   },
   "file_extension": ".py",
   "mimetype": "text/x-python",
   "name": "python",
   "nbconvert_exporter": "python",
   "pygments_lexer": "ipython3",
   "version": "3.8.8"
  }
 },
 "nbformat": 4,
 "nbformat_minor": 5
}
