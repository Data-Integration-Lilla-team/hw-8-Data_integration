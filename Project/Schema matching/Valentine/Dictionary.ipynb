{
 "cells": [
  {
   "cell_type": "markdown",
   "id": "0481d833",
   "metadata": {},
   "source": [
    "# Creazione dizionario dei sinonimi"
   ]
  },
  {
   "cell_type": "code",
   "execution_count": 1,
   "id": "681c3df2",
   "metadata": {},
   "outputs": [],
   "source": [
    "import warnings\n",
    "warnings.filterwarnings('ignore')\n",
    "import os\n",
    "import pandas as pd\n",
    "import json"
   ]
  },
  {
   "cell_type": "code",
   "execution_count": 2,
   "id": "2b544d56",
   "metadata": {},
   "outputs": [],
   "source": [
    "datasets_base_path = \"..\\\\..\\\\Dataset\\\\Clusters_CSV\\\\original\\\\\"\n",
    "dictionary_path = \".\\\\dictionary\\\\\""
   ]
  },
  {
   "cell_type": "code",
   "execution_count": 3,
   "id": "70bfdf2a",
   "metadata": {},
   "outputs": [],
   "source": [
    "cluster_dict = {}\n",
    "for filename in os.listdir(dictionary_path):\n",
    "    file_path = os.path.join(dictionary_path, filename)\n",
    "    cluster = os.path.splitext(filename)[0]\n",
    "    file = open(file_path)\n",
    "    cluster_dict[cluster] = json.load(file)\n",
    "    file.close()"
   ]
  },
  {
   "cell_type": "code",
   "execution_count": 4,
   "id": "92308432",
   "metadata": {},
   "outputs": [],
   "source": [
    "threshold = 0.0\n",
    "inverted_index_cluster = {}\n",
    "for cluster, inverted_index in cluster_dict.items():\n",
    "    inverted_index_cluster[cluster] = []\n",
    "    for main_token, tokens in inverted_index.items():\n",
    "        inverted_index_cluster[cluster].append({main_token: [k for k,v in tokens.items() if v > threshold]})"
   ]
  },
  {
   "cell_type": "code",
   "execution_count": null,
   "id": "0bb407fa",
   "metadata": {},
   "outputs": [],
   "source": []
  }
 ],
 "metadata": {
  "kernelspec": {
   "display_name": "Python 3",
   "language": "python",
   "name": "python3"
  },
  "language_info": {
   "codemirror_mode": {
    "name": "ipython",
    "version": 3
   },
   "file_extension": ".py",
   "mimetype": "text/x-python",
   "name": "python",
   "nbconvert_exporter": "python",
   "pygments_lexer": "ipython3",
   "version": "3.8.8"
  }
 },
 "nbformat": 4,
 "nbformat_minor": 5
}
