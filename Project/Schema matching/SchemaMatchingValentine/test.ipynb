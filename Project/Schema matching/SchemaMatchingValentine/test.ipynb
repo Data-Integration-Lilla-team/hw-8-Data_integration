{
 "cells": [
  {
   "cell_type": "code",
   "execution_count": null,
   "metadata": {
    "collapsed": true
   },
   "outputs": [],
   "source": []
  },
  {
   "cell_type": "code",
   "execution_count": 9,
   "outputs": [],
   "source": [
    "import os\n",
    "import pandas as pd\n",
    "import json"
   ],
   "metadata": {
    "collapsed": false
   }
  },
  {
   "cell_type": "code",
   "execution_count": 10,
   "outputs": [],
   "source": [
    "\n",
    "def get_path_group_name(cluster_path):\n",
    "    path_group_name = {}\n",
    "    for filename in os.listdir(cluster_path):\n",
    "        dataset_path = os.path.join(cluster_path, filename)\n",
    "        path_group_name[os.path.splitext(filename)[0]] = dataset_path\n",
    "    return path_group_name\n",
    "\n",
    "\n",
    "def get_inverted_index_column_name_file(cluster_path):\n",
    "    inverted_index = {}\n",
    "    for filename in os.listdir(cluster_path):\n",
    "        file_path = os.path.join(cluster_path, filename)\n",
    "        df = pd.read_csv(file_path)\n",
    "        group_name = os.path.splitext(filename)[0]\n",
    "        for column in list(df.columns):\n",
    "            if column not in inverted_index.keys():\n",
    "                inverted_index[column] = []\n",
    "            inverted_index[column].append(group_name)\n",
    "    return inverted_index"
   ],
   "metadata": {
    "collapsed": false
   }
  },
  {
   "cell_type": "code",
   "execution_count": 11,
   "outputs": [],
   "source": [
    "datasets_base_path = \"..\\\\..\\\\Dataset\\\\ClusterParsed\\\\\"\n",
    "info_path = \"..\\\\DatasetSchemaMatch\\\\\"\n",
    "filename_synonym = \"dic_pre_val.txt\"\n",
    "csv_columns_path = \".\\\\columns\\\\\"\n",
    "dictionary_path = \".\\\\dictionary_score\\\\\"\n",
    "plot_path = \".\\\\plot\\\\\"\n",
    "dict_synonyms_path = \".\\\\synonyms\\\\\"\n",
    "schema_path = \".\\\\schema\\\\\""
   ],
   "metadata": {
    "collapsed": false
   }
  },
  {
   "cell_type": "code",
   "execution_count": 24,
   "outputs": [
    {
     "name": "stdout",
     "output_type": "stream",
     "text": [
      "Cluster: ambitiobox\n",
      "Cluster: ariregister\n",
      "Cluster: cbinsights\n"
     ]
    }
   ],
   "source": [
    "for cluster_folder_name in os.listdir(datasets_base_path):\n",
    "\n",
    "    print(\"Cluster:\", cluster_folder_name)\n",
    "\n",
    "    tmp = os.path.join(info_path, cluster_folder_name)\n",
    "\n",
    "    synonym_path = os.path.join(tmp, filename_synonym)\n",
    "    with open(synonym_path) as f:\n",
    "        data = f.read()\n",
    "    js_synonym = json.loads(data)\n",
    "\n",
    "    cluster_path = os.path.join(datasets_base_path, cluster_folder_name)\n",
    "    paths = get_path_group_name(cluster_path)\n",
    "\n",
    "    js_inverted_index = get_inverted_index_column_name_file(cluster_path)\n",
    "\n",
    "    if len(paths) > 1:\n",
    "\n",
    "        cluster_path = csv_columns_path + cluster_folder_name + \"\\\\\"\n",
    "        os.mkdir(cluster_path)\n",
    "\n",
    "        list_of_columns = []\n",
    "        for main_token, tokens in js_synonym.items():\n",
    "\n",
    "            if tuple(tokens) not in list_of_columns:\n",
    "\n",
    "                list_of_columns.append(tuple(tokens))\n",
    "\n",
    "                data_column_cluster = {}\n",
    "\n",
    "                for token in tokens:\n",
    "\n",
    "                    filename_with_token = js_inverted_index[token]\n",
    "                    for filename in filename_with_token:\n",
    "                        df_tmp = pd.read_csv(paths[filename])\n",
    "                        column = df_tmp[token]\n",
    "                        data_column_cluster[filename + \"-\" + token] = column\n",
    "\n",
    "                df = pd.DataFrame(data_column_cluster)\n",
    "                df.to_csv(cluster_path + main_token + \".csv\", index=False)\n",
    "\n",
    "        break"
   ],
   "metadata": {
    "collapsed": false
   }
  },
  {
   "cell_type": "code",
   "execution_count": null,
   "outputs": [],
   "source": [],
   "metadata": {
    "collapsed": false
   }
  }
 ],
 "metadata": {
  "kernelspec": {
   "display_name": "Python 3",
   "language": "python",
   "name": "python3"
  },
  "language_info": {
   "codemirror_mode": {
    "name": "ipython",
    "version": 2
   },
   "file_extension": ".py",
   "mimetype": "text/x-python",
   "name": "python",
   "nbconvert_exporter": "python",
   "pygments_lexer": "ipython2",
   "version": "2.7.6"
  }
 },
 "nbformat": 4,
 "nbformat_minor": 0
}
