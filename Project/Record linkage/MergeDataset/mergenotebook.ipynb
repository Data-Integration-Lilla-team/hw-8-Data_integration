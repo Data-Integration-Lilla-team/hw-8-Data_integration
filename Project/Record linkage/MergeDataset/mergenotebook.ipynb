{
 "cells": [
  {
   "cell_type": "code",
   "execution_count": 1,
   "metadata": {},
   "outputs": [],
   "source": [
    "from do_merge import Merger\n",
    "import os\n",
    "import pandas as pd \n",
    "import time"
   ]
  },
  {
   "cell_type": "code",
   "execution_count": 2,
   "metadata": {},
   "outputs": [],
   "source": [
    "directory = r'C:\\hw-8-Data_integration\\Project\\Record linkage\\DATASETS\\Couples for prediction'"
   ]
  },
  {
   "cell_type": "code",
   "execution_count": 3,
   "metadata": {},
   "outputs": [
    {
     "name": "stdout",
     "output_type": "stream",
     "text": [
      "a.csv\n",
      "b.csv\n",
      "c.csv\n",
      "d.csv\n",
      "e.csv\n",
      "f.csv\n",
      "g.csv\n",
      "h.csv\n",
      "i.csv\n",
      "j.csv\n",
      "k.csv\n",
      "l.csv\n",
      "m.csv\n",
      "n.csv\n",
      "o.csv\n",
      "p.csv\n",
      "q.csv\n",
      "r.csv\n",
      "s.csv\n",
      "t.csv\n",
      "u.csv\n",
      "v.csv\n",
      "w.csv\n",
      "x.csv\n",
      "y.csv\n",
      "z.csv\n",
      "192.7662374973297\n"
     ]
    }
   ],
   "source": [
    "start = time.time()\n",
    "for filename in os.listdir(directory):\n",
    "    print(filename)\n",
    "    merger = Merger(filename)\n",
    "    merger.getMatch()\n",
    "    merger.getFile()\n",
    "end = time.time()\n",
    "total_time = end - start\n",
    "print(total_time)"
   ]
  },
  {
   "cell_type": "code",
   "execution_count": null,
   "metadata": {},
   "outputs": [],
   "source": [
    "list = []\n",
    "directory = r'C:\\hw-8-Data_integration\\Project\\Record linkage\\DATASETS\\Merged Datasets'\n",
    "for filename in os.listdir(directory):\n",
    "    df = pd.read_csv(directory + '\\\\' + filename)\n",
    "    list.append(df)\n",
    "\n",
    "output = pd.concat(list, ignore_index = True)\n",
    "output.to_csv(directory + '\\\\dataset_final.csv', index = False)"
   ]
  }
 ],
 "metadata": {
  "kernelspec": {
   "display_name": "Python 3",
   "language": "python",
   "name": "python3"
  },
  "language_info": {
   "codemirror_mode": {
    "name": "ipython",
    "version": 3
   },
   "file_extension": ".py",
   "mimetype": "text/x-python",
   "name": "python",
   "nbconvert_exporter": "python",
   "pygments_lexer": "ipython3",
   "version": "3.8.10"
  },
  "orig_nbformat": 4,
  "vscode": {
   "interpreter": {
    "hash": "cce4aedea141590d780d12e6a6605bcad0d3b081bf5f576575370614619b4c61"
   }
  }
 },
 "nbformat": 4,
 "nbformat_minor": 2
}
