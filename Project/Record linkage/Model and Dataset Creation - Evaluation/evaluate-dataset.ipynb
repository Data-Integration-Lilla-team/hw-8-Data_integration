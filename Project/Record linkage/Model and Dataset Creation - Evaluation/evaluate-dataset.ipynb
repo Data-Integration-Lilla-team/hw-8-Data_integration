{
 "cells": [
  {
   "cell_type": "code",
   "execution_count": 1,
   "metadata": {},
   "outputs": [],
   "source": [
    "import pandas as pd\n",
    "import matplotlib.pyplot as plt"
   ]
  },
  {
   "cell_type": "code",
   "execution_count": 2,
   "metadata": {},
   "outputs": [],
   "source": [
    "df = pd.read_csv(r'C:\\hw-8-Data_integration\\Project\\Record linkage\\DATASETS\\dataset.csv')"
   ]
  },
  {
   "cell_type": "code",
   "execution_count": 3,
   "metadata": {},
   "outputs": [
    {
     "data": {
      "text/html": [
       "<div>\n",
       "<style scoped>\n",
       "    .dataframe tbody tr th:only-of-type {\n",
       "        vertical-align: middle;\n",
       "    }\n",
       "\n",
       "    .dataframe tbody tr th {\n",
       "        vertical-align: top;\n",
       "    }\n",
       "\n",
       "    .dataframe thead th {\n",
       "        text-align: right;\n",
       "    }\n",
       "</style>\n",
       "<table border=\"1\" class=\"dataframe\">\n",
       "  <thead>\n",
       "    <tr style=\"text-align: right;\">\n",
       "      <th></th>\n",
       "      <th>_id</th>\n",
       "      <th>ltable_id</th>\n",
       "      <th>rtable_id</th>\n",
       "      <th>ltable_name</th>\n",
       "      <th>ltable_country</th>\n",
       "      <th>ltable_headquarters</th>\n",
       "      <th>ltable_address</th>\n",
       "      <th>ltable_founded</th>\n",
       "      <th>ltable_employees</th>\n",
       "      <th>ltable_market_cap</th>\n",
       "      <th>...</th>\n",
       "      <th>rtable_founded</th>\n",
       "      <th>rtable_employees</th>\n",
       "      <th>rtable_market_cap</th>\n",
       "      <th>rtable_revenue</th>\n",
       "      <th>rtable_profit</th>\n",
       "      <th>rtable_industry</th>\n",
       "      <th>rtable_sector</th>\n",
       "      <th>rtable_categories</th>\n",
       "      <th>rtable_ceo</th>\n",
       "      <th>label</th>\n",
       "    </tr>\n",
       "  </thead>\n",
       "  <tbody>\n",
       "    <tr>\n",
       "      <th>0</th>\n",
       "      <td>61524</td>\n",
       "      <td>143741</td>\n",
       "      <td>6326</td>\n",
       "      <td>aar corp</td>\n",
       "      <td>united states</td>\n",
       "      <td>NaN</td>\n",
       "      <td>NaN</td>\n",
       "      <td>NaN</td>\n",
       "      <td>NaN</td>\n",
       "      <td>doll_1.2 m</td>\n",
       "      <td>...</td>\n",
       "      <td>2003</td>\n",
       "      <td>NaN</td>\n",
       "      <td>NaN</td>\n",
       "      <td>NaN</td>\n",
       "      <td>NaN</td>\n",
       "      <td>real estate</td>\n",
       "      <td>NaN</td>\n",
       "      <td>NaN</td>\n",
       "      <td>NaN</td>\n",
       "      <td>0</td>\n",
       "    </tr>\n",
       "    <tr>\n",
       "      <th>1</th>\n",
       "      <td>89057</td>\n",
       "      <td>39908</td>\n",
       "      <td>9319</td>\n",
       "      <td>aeva technologies</td>\n",
       "      <td>united states</td>\n",
       "      <td>NaN</td>\n",
       "      <td>NaN</td>\n",
       "      <td>NaN</td>\n",
       "      <td>NaN</td>\n",
       "      <td>doll_270.0 m</td>\n",
       "      <td>...</td>\n",
       "      <td>2006</td>\n",
       "      <td>NaN</td>\n",
       "      <td>NaN</td>\n",
       "      <td>NaN</td>\n",
       "      <td>NaN</td>\n",
       "      <td>fintech</td>\n",
       "      <td>NaN</td>\n",
       "      <td>NaN</td>\n",
       "      <td>NaN</td>\n",
       "      <td>0</td>\n",
       "    </tr>\n",
       "    <tr>\n",
       "      <th>2</th>\n",
       "      <td>92453</td>\n",
       "      <td>62462</td>\n",
       "      <td>9599</td>\n",
       "      <td>alignment healthcare</td>\n",
       "      <td>NaN</td>\n",
       "      <td>NaN</td>\n",
       "      <td>NaN</td>\n",
       "      <td>NaN</td>\n",
       "      <td>847.0</td>\n",
       "      <td>doll_2.35 b</td>\n",
       "      <td>...</td>\n",
       "      <td>2005</td>\n",
       "      <td>NaN</td>\n",
       "      <td>NaN</td>\n",
       "      <td>NaN</td>\n",
       "      <td>NaN</td>\n",
       "      <td>pharma</td>\n",
       "      <td>NaN</td>\n",
       "      <td>NaN</td>\n",
       "      <td>NaN</td>\n",
       "      <td>0</td>\n",
       "    </tr>\n",
       "    <tr>\n",
       "      <th>3</th>\n",
       "      <td>141564</td>\n",
       "      <td>65545</td>\n",
       "      <td>21395</td>\n",
       "      <td>apollo pipes</td>\n",
       "      <td>NaN</td>\n",
       "      <td>NaN</td>\n",
       "      <td>NaN</td>\n",
       "      <td>NaN</td>\n",
       "      <td>834.0</td>\n",
       "      <td>doll_0.24 b</td>\n",
       "      <td>...</td>\n",
       "      <td>NaN</td>\n",
       "      <td>NaN</td>\n",
       "      <td>doll_7.67 b</td>\n",
       "      <td>NaN</td>\n",
       "      <td>NaN</td>\n",
       "      <td>NaN</td>\n",
       "      <td>NaN</td>\n",
       "      <td>healthcare medical-care-facilities</td>\n",
       "      <td>NaN</td>\n",
       "      <td>0</td>\n",
       "    </tr>\n",
       "    <tr>\n",
       "      <th>4</th>\n",
       "      <td>174820</td>\n",
       "      <td>95010</td>\n",
       "      <td>24819</td>\n",
       "      <td>american airlines group</td>\n",
       "      <td>united states</td>\n",
       "      <td>NaN</td>\n",
       "      <td>NaN</td>\n",
       "      <td>NaN</td>\n",
       "      <td>NaN</td>\n",
       "      <td>doll_13.1 b</td>\n",
       "      <td>...</td>\n",
       "      <td>NaN</td>\n",
       "      <td>NaN</td>\n",
       "      <td>doll_22.68 m</td>\n",
       "      <td>NaN</td>\n",
       "      <td>NaN</td>\n",
       "      <td>NaN</td>\n",
       "      <td>NaN</td>\n",
       "      <td>tech internet</td>\n",
       "      <td>NaN</td>\n",
       "      <td>0</td>\n",
       "    </tr>\n",
       "  </tbody>\n",
       "</table>\n",
       "<p>5 rows × 30 columns</p>\n",
       "</div>"
      ],
      "text/plain": [
       "      _id  ltable_id  rtable_id              ltable_name ltable_country  \\\n",
       "0   61524     143741       6326                 aar corp  united states   \n",
       "1   89057      39908       9319        aeva technologies  united states   \n",
       "2   92453      62462       9599     alignment healthcare            NaN   \n",
       "3  141564      65545      21395             apollo pipes            NaN   \n",
       "4  174820      95010      24819  american airlines group  united states   \n",
       "\n",
       "  ltable_headquarters ltable_address ltable_founded ltable_employees  \\\n",
       "0                 NaN            NaN            NaN              NaN   \n",
       "1                 NaN            NaN            NaN              NaN   \n",
       "2                 NaN            NaN            NaN            847.0   \n",
       "3                 NaN            NaN            NaN            834.0   \n",
       "4                 NaN            NaN            NaN              NaN   \n",
       "\n",
       "  ltable_market_cap  ... rtable_founded rtable_employees rtable_market_cap  \\\n",
       "0        doll_1.2 m  ...           2003              NaN               NaN   \n",
       "1      doll_270.0 m  ...           2006              NaN               NaN   \n",
       "2       doll_2.35 b  ...           2005              NaN               NaN   \n",
       "3       doll_0.24 b  ...            NaN              NaN       doll_7.67 b   \n",
       "4       doll_13.1 b  ...            NaN              NaN      doll_22.68 m   \n",
       "\n",
       "  rtable_revenue rtable_profit rtable_industry rtable_sector  \\\n",
       "0            NaN           NaN     real estate           NaN   \n",
       "1            NaN           NaN         fintech           NaN   \n",
       "2            NaN           NaN          pharma           NaN   \n",
       "3            NaN           NaN             NaN           NaN   \n",
       "4            NaN           NaN             NaN           NaN   \n",
       "\n",
       "                     rtable_categories rtable_ceo label  \n",
       "0                                  NaN        NaN     0  \n",
       "1                                  NaN        NaN     0  \n",
       "2                                  NaN        NaN     0  \n",
       "3  healthcare medical-care-facilities         NaN     0  \n",
       "4                       tech internet         NaN     0  \n",
       "\n",
       "[5 rows x 30 columns]"
      ]
     },
     "execution_count": 3,
     "metadata": {},
     "output_type": "execute_result"
    }
   ],
   "source": [
    "df.head()"
   ]
  },
  {
   "cell_type": "code",
   "execution_count": 4,
   "metadata": {},
   "outputs": [
    {
     "data": {
      "text/plain": [
       "1300"
      ]
     },
     "execution_count": 4,
     "metadata": {},
     "output_type": "execute_result"
    }
   ],
   "source": [
    "len(df)"
   ]
  },
  {
   "cell_type": "code",
   "execution_count": 5,
   "metadata": {},
   "outputs": [
    {
     "data": {
      "text/plain": [
       "1    695\n",
       "0    605\n",
       "Name: label, dtype: int64"
      ]
     },
     "execution_count": 5,
     "metadata": {},
     "output_type": "execute_result"
    }
   ],
   "source": [
    "df['label'].value_counts()"
   ]
  },
  {
   "cell_type": "code",
   "execution_count": 6,
   "metadata": {},
   "outputs": [],
   "source": [
    "lilla = \"#c8a2c8\"\n",
    "black = \"#000000\""
   ]
  },
  {
   "cell_type": "code",
   "execution_count": 7,
   "metadata": {},
   "outputs": [],
   "source": [
    "# plot di bar chart\n",
    "def bar_plot(keys, values, title, dim = (7,4), bar_label = False, v_max = None):\n",
    "    plt.figure(figsize=dim) \n",
    "    #plt.yscale(\"log\")\n",
    "    plt.title(title)\n",
    "    p = plt.bar(\n",
    "        keys, \n",
    "        values, \n",
    "        width= 0.5, \n",
    "        color=lilla, \n",
    "        edgecolor=black, \n",
    "        linewidth=1, \n",
    "        align='center'\n",
    "    )\n",
    "    if bar_label:\n",
    "        plt.bar_label(p, label_type='edge')\n",
    "        plt.xticks(rotation = 45, ha='right', rotation_mode='anchor')\n",
    "        plt.margins(y=0.2)\n",
    "        if v_max != None:\n",
    "            plt.grid(color=black, linestyle='-', linewidth=0.5, axis=\"y\")\n",
    "            l = \"{:,}\".format(v_max)\n",
    "            l = l.replace(',', '.')\n",
    "            plt.yticks([v_max], [l])\n",
    "        else:\n",
    "            plt.tick_params(left = False, labelleft = False)\n",
    "    else:\n",
    "        labels = [\"{:,}\".format(elem) for elem in values]\n",
    "        labels = list(map(lambda x: x.replace(',', '.'), labels))\n",
    "        plt.yticks(values, labels)\n",
    "        plt.grid(color=black, linestyle='-', linewidth=0.5, axis=\"y\")\n",
    "    plt.show()"
   ]
  },
  {
   "cell_type": "code",
   "execution_count": 9,
   "metadata": {},
   "outputs": [
    {
     "data": {
      "image/png": "[encoded data removed]",
      "text/plain": [
       "<Figure size 700x400 with 1 Axes>"
      ]
     },
     "metadata": {},
     "output_type": "display_data"
    }
   ],
   "source": [
    "d = {}\n",
    "d['MATCH'] = 695\n",
    "d['NO MATCH'] = 605\n",
    "\n",
    "keys = list(d.keys())\n",
    "values = list(d.values())\n",
    "title = 'Distribuzione delle label del training set'\n",
    "\n",
    "bar_plot(keys, values, title)"
   ]
  },
  {
   "cell_type": "code",
   "execution_count": null,
   "metadata": {},
   "outputs": [],
   "source": []
  }
 ],
 "metadata": {
  "kernelspec": {
   "display_name": "Python 3",
   "language": "python",
   "name": "python3"
  },
  "language_info": {
   "codemirror_mode": {
    "name": "ipython",
    "version": 3
   },
   "file_extension": ".py",
   "mimetype": "text/x-python",
   "name": "python",
   "nbconvert_exporter": "python",
   "pygments_lexer": "ipython3",
   "version": "3.8.10"
  },
  "orig_nbformat": 4,
  "vscode": {
   "interpreter": {
    "hash": "cce4aedea141590d780d12e6a6605bcad0d3b081bf5f576575370614619b4c61"
   }
  }
 },
 "nbformat": 4,
 "nbformat_minor": 2
}
